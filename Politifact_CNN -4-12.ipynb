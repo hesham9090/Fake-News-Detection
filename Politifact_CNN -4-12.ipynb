{
  "nbformat": 4,
  "nbformat_minor": 0,
  "metadata": {
    "kernelspec": {
      "name": "python3",
      "display_name": "Python 3"
    },
    "colab": {
      "name": "Politifact_CNN.ipynb",
      "provenance": [],
      "collapsed_sections": []
    },
    "accelerator": "GPU"
  },
  "cells": [
    {
      "cell_type": "code",
      "metadata": {
        "id": "FfktFh9oLx19",
        "colab_type": "code",
        "outputId": "9a52c815-3eab-4e8f-f982-9f9aa5be45c8",
        "colab": {
          "base_uri": "https://localhost:8080/",
          "height": 132
        }
      },
      "source": [
        "from google.colab import drive\n",
        "drive.mount('/content/drive')"
      ],
      "execution_count": 0,
      "outputs": [
        {
          "output_type": "stream",
          "text": [
            "Go to this URL in a browser: https://accounts.google.com/o/oauth2/auth?client_id=947318989803-6bn6qk8qdgf4n4g3pfee6491hc0brc4i.apps.googleusercontent.com&redirect_uri=urn%3aietf%3awg%3aoauth%3a2.0%3aoob&response_type=code&scope=email%20https%3a%2f%2fwww.googleapis.com%2fauth%2fdocs.test%20https%3a%2f%2fwww.googleapis.com%2fauth%2fdrive%20https%3a%2f%2fwww.googleapis.com%2fauth%2fdrive.photos.readonly%20https%3a%2f%2fwww.googleapis.com%2fauth%2fpeopleapi.readonly\n",
            "\n",
            "Enter your authorization code:\n",
            "··········\n",
            "Mounted at /content/drive\n"
          ],
          "name": "stdout"
        }
      ]
    },
    {
      "cell_type": "code",
      "metadata": {
        "id": "HZZFV8KoQbL8",
        "colab_type": "code",
        "colab": {}
      },
      "source": [
        "from nltk.tokenize import word_tokenize\n",
        "from sklearn.preprocessing import LabelEncoder\n",
        "import pandas as pd\n",
        "import re\n"
      ],
      "execution_count": 0,
      "outputs": []
    },
    {
      "cell_type": "code",
      "metadata": {
        "id": "MkbAhdeZXX3f",
        "colab_type": "code",
        "colab": {}
      },
      "source": [
        "def Preprocess_text(data):\n",
        "    data['Title'] = data['Title'].apply(lambda x: re.sub(r'[^a-zA-Z0-9 ]',r' ',x))\n",
        "    data['Title'] = data['Title'].apply(lambda x: x.lower())\n",
        "    data['Title'] = data['Title'].apply(lambda x: re.sub(r'[0-9]+',r' NUM ',x))\n",
        "    data['Article'] = data['Article'].apply(lambda x: re.sub(r'[^a-zA-Z0-9 ]',r' ',x))\n",
        "    data['Article'] = data['Article'].apply(lambda x: x.lower())\n",
        "    data['Article'] = data['Article'].apply(lambda x: re.sub(r'[0-9]+',r' NUM ',x))\n",
        "    data['Author'] = data['Author'].apply(lambda x: re.sub(r'[^a-zA-Z0-9 ]',r' ',x))\n",
        "    data['Author'] = data['Author'].apply(lambda x: x.lower())\n",
        "    data['Author'] = data['Author'].apply(lambda x: re.sub(r'[0-9]+',r' NUM ',x))\n",
        "    return data"
      ],
      "execution_count": 0,
      "outputs": []
    },
    {
      "cell_type": "code",
      "metadata": {
        "id": "n2-Xq2gyLq2I",
        "colab_type": "code",
        "outputId": "63de379c-368c-4957-fdd8-23b5e4784812",
        "colab": {
          "base_uri": "https://localhost:8080/",
          "height": 254
        }
      },
      "source": [
        "df = pd.read_csv('/content/drive/My Drive/Fake-News-Detection/dataset/Poltifact_dataset.csv',sep=',',index_col='idx')\n",
        "\n",
        "df = Preprocess_text(df)\n",
        "\n",
        "labelencoder = LabelEncoder()\n",
        "#df['Image'] = labelencoder.inverse_transform(df['Image'])\n",
        "df['Labels'] = labelencoder.fit_transform(df['Labels'])\n",
        "print(labelencoder.classes_)\n",
        "df.head()"
      ],
      "execution_count": 0,
      "outputs": [
        {
          "output_type": "stream",
          "text": [
            "['FALSE' 'Half-True' 'Mostly False' 'Mostly True' 'Pants on Fire!' 'TRUE']\n"
          ],
          "name": "stdout"
        },
        {
          "output_type": "execute_result",
          "data": {
            "text/html": [
              "<div>\n",
              "<style scoped>\n",
              "    .dataframe tbody tr th:only-of-type {\n",
              "        vertical-align: middle;\n",
              "    }\n",
              "\n",
              "    .dataframe tbody tr th {\n",
              "        vertical-align: top;\n",
              "    }\n",
              "\n",
              "    .dataframe thead th {\n",
              "        text-align: right;\n",
              "    }\n",
              "</style>\n",
              "<table border=\"1\" class=\"dataframe\">\n",
              "  <thead>\n",
              "    <tr style=\"text-align: right;\">\n",
              "      <th></th>\n",
              "      <th>Title</th>\n",
              "      <th>Date</th>\n",
              "      <th>Author</th>\n",
              "      <th>Article</th>\n",
              "      <th>Labels</th>\n",
              "    </tr>\n",
              "    <tr>\n",
              "      <th>idx</th>\n",
              "      <th></th>\n",
              "      <th></th>\n",
              "      <th></th>\n",
              "      <th></th>\n",
              "      <th></th>\n",
              "    </tr>\n",
              "  </thead>\n",
              "  <tbody>\n",
              "    <tr>\n",
              "      <th>0</th>\n",
              "      <td>no  bill cosby wasn t framed for sexual assaul...</td>\n",
              "      <td>on Monday, November 4th, 2019 at 2:31 p.m.</td>\n",
              "      <td>samantha putterman</td>\n",
              "      <td>actor and comedian bill cosby  was convicted...</td>\n",
              "      <td>4</td>\n",
              "    </tr>\n",
              "    <tr>\n",
              "      <th>1</th>\n",
              "      <td>green new deal doesn t mention abortion  but n...</td>\n",
              "      <td>on Friday, November 1st, 2019 at 1:39 p.m.</td>\n",
              "      <td>tom kertscher</td>\n",
              "      <td>attacks on the green new deal include claims...</td>\n",
              "      <td>2</td>\n",
              "    </tr>\n",
              "    <tr>\n",
              "      <th>2</th>\n",
              "      <td>subpoenas vs  bills  what this cnn pundit got ...</td>\n",
              "      <td>on Monday, November 4th, 2019 at 2:03 p.m.</td>\n",
              "      <td>bill mccarthy</td>\n",
              "      <td>cnn commentator mike shields took aim at hou...</td>\n",
              "      <td>0</td>\n",
              "    </tr>\n",
              "    <tr>\n",
              "      <th>3</th>\n",
              "      <td>kamala harris didn t say democrats are  coming...</td>\n",
              "      <td>on Monday, November 4th, 2019 at 1:03 p.m.</td>\n",
              "      <td>daniel funke</td>\n",
              "      <td>a quote from sen  kamala harris attacking su...</td>\n",
              "      <td>4</td>\n",
              "    </tr>\n",
              "    <tr>\n",
              "      <th>4</th>\n",
              "      <td>nancy pelosi overstates republican gains in im...</td>\n",
              "      <td>on Monday, November 4th, 2019 at 11:44 a.m.</td>\n",
              "      <td>jon greenberg</td>\n",
              "      <td>house republicans voted unanimously against ...</td>\n",
              "      <td>2</td>\n",
              "    </tr>\n",
              "  </tbody>\n",
              "</table>\n",
              "</div>"
            ],
            "text/plain": [
              "                                                 Title  ... Labels\n",
              "idx                                                     ...       \n",
              "0    no  bill cosby wasn t framed for sexual assaul...  ...      4\n",
              "1    green new deal doesn t mention abortion  but n...  ...      2\n",
              "2    subpoenas vs  bills  what this cnn pundit got ...  ...      0\n",
              "3    kamala harris didn t say democrats are  coming...  ...      4\n",
              "4    nancy pelosi overstates republican gains in im...  ...      2\n",
              "\n",
              "[5 rows x 5 columns]"
            ]
          },
          "metadata": {
            "tags": []
          },
          "execution_count": 45
        }
      ]
    },
    {
      "cell_type": "code",
      "metadata": {
        "id": "EZp-_pSCLq2R",
        "colab_type": "code",
        "outputId": "d68b0564-7f24-47f7-860a-76747126b28b",
        "colab": {
          "base_uri": "https://localhost:8080/",
          "height": 254
        }
      },
      "source": [
        "train_all = df[['Author','Title','Article']]\n",
        "target_all = df['Labels']\n",
        "column = df['Title']\n",
        "print(column[3])\n",
        "train_all.head()"
      ],
      "execution_count": 0,
      "outputs": [
        {
          "output_type": "stream",
          "text": [
            "kamala harris didn t say democrats are  coming for  trump supporters in  NUM \n"
          ],
          "name": "stdout"
        },
        {
          "output_type": "execute_result",
          "data": {
            "text/html": [
              "<div>\n",
              "<style scoped>\n",
              "    .dataframe tbody tr th:only-of-type {\n",
              "        vertical-align: middle;\n",
              "    }\n",
              "\n",
              "    .dataframe tbody tr th {\n",
              "        vertical-align: top;\n",
              "    }\n",
              "\n",
              "    .dataframe thead th {\n",
              "        text-align: right;\n",
              "    }\n",
              "</style>\n",
              "<table border=\"1\" class=\"dataframe\">\n",
              "  <thead>\n",
              "    <tr style=\"text-align: right;\">\n",
              "      <th></th>\n",
              "      <th>Author</th>\n",
              "      <th>Title</th>\n",
              "      <th>Article</th>\n",
              "    </tr>\n",
              "    <tr>\n",
              "      <th>idx</th>\n",
              "      <th></th>\n",
              "      <th></th>\n",
              "      <th></th>\n",
              "    </tr>\n",
              "  </thead>\n",
              "  <tbody>\n",
              "    <tr>\n",
              "      <th>0</th>\n",
              "      <td>samantha putterman</td>\n",
              "      <td>no  bill cosby wasn t framed for sexual assaul...</td>\n",
              "      <td>actor and comedian bill cosby  was convicted...</td>\n",
              "    </tr>\n",
              "    <tr>\n",
              "      <th>1</th>\n",
              "      <td>tom kertscher</td>\n",
              "      <td>green new deal doesn t mention abortion  but n...</td>\n",
              "      <td>attacks on the green new deal include claims...</td>\n",
              "    </tr>\n",
              "    <tr>\n",
              "      <th>2</th>\n",
              "      <td>bill mccarthy</td>\n",
              "      <td>subpoenas vs  bills  what this cnn pundit got ...</td>\n",
              "      <td>cnn commentator mike shields took aim at hou...</td>\n",
              "    </tr>\n",
              "    <tr>\n",
              "      <th>3</th>\n",
              "      <td>daniel funke</td>\n",
              "      <td>kamala harris didn t say democrats are  coming...</td>\n",
              "      <td>a quote from sen  kamala harris attacking su...</td>\n",
              "    </tr>\n",
              "    <tr>\n",
              "      <th>4</th>\n",
              "      <td>jon greenberg</td>\n",
              "      <td>nancy pelosi overstates republican gains in im...</td>\n",
              "      <td>house republicans voted unanimously against ...</td>\n",
              "    </tr>\n",
              "  </tbody>\n",
              "</table>\n",
              "</div>"
            ],
            "text/plain": [
              "                 Author  ...                                            Article\n",
              "idx                      ...                                                   \n",
              "0    samantha putterman  ...    actor and comedian bill cosby  was convicted...\n",
              "1         tom kertscher  ...    attacks on the green new deal include claims...\n",
              "2         bill mccarthy  ...    cnn commentator mike shields took aim at hou...\n",
              "3          daniel funke  ...    a quote from sen  kamala harris attacking su...\n",
              "4         jon greenberg  ...    house republicans voted unanimously against ...\n",
              "\n",
              "[5 rows x 3 columns]"
            ]
          },
          "metadata": {
            "tags": []
          },
          "execution_count": 46
        }
      ]
    },
    {
      "cell_type": "code",
      "metadata": {
        "id": "hwZdNSYeLq2V",
        "colab_type": "code",
        "outputId": "289c5a06-a672-4c3b-d975-b07947affe77",
        "colab": {
          "base_uri": "https://localhost:8080/",
          "height": 188
        }
      },
      "source": [
        "%tensorflow_version 2.x\n",
        "from tensorflow.python.keras.preprocessing.text import Tokenizer\n",
        "from tensorflow.python.keras.preprocessing.sequence import pad_sequences\n",
        "from sklearn.model_selection import train_test_split\n",
        "\n",
        "\n",
        "max_length = max([len(s.split()) for s in train_all['Article']])\n",
        "max_length2 = max([len(s.split()) for s in train_all['Title']])\n",
        "max_length3 = max([len(s.split()) for s in train_all['Author']])\n",
        "x_train, x_test, y_train, y_test = train_test_split(train_all,target_all, test_size=0.2, random_state=42)\n",
        "tokenizer = Tokenizer()\n",
        "tokenizer2 = Tokenizer()\n",
        "tokenizer3 = Tokenizer()\n",
        "tokenizer.fit_on_texts(list(train_all['Article']))\n",
        "x_train_Article_tokens = tokenizer.texts_to_sequences(list(x_train['Article']))\n",
        "x_test_Article_tokens = tokenizer.texts_to_sequences(list(x_test['Article']))\n",
        "x_train_Article_pad = pad_sequences(x_train_Article_tokens,maxlen=max_length,padding='post')\n",
        "x_test_Article_pad = pad_sequences(x_test_Article_tokens,maxlen=max_length,padding='post')\n",
        "\n",
        "unique_words = len(tokenizer.word_index)\n",
        "\n",
        "tokenizer2.fit_on_texts(train_all['Title'])\n",
        "x_train_Title_tokens = tokenizer2.texts_to_sequences(x_train['Title'])\n",
        "x_test_Title_tokens = tokenizer2.texts_to_sequences(x_test['Title'])\n",
        "x_train_Title_pad = pad_sequences(x_train_Title_tokens,maxlen=max_length2,padding='post')\n",
        "x_test_Title_pad = pad_sequences(x_test_Title_tokens,maxlen=max_length2,padding='post')\n",
        "\n",
        "unique_words = len(tokenizer.word_index)+1\n",
        "\n",
        "tokenizer3.fit_on_texts(train_all['Author'])\n",
        "x_train_Author_tokens = tokenizer3.texts_to_sequences(x_train['Author'])\n",
        "x_test_Author_tokens = tokenizer3.texts_to_sequences(x_test['Author'])\n",
        "x_train_Author_pad = pad_sequences(x_train_Author_tokens,maxlen=max_length3,padding='post')\n",
        "x_test_Author_pad = pad_sequences(x_test_Author_tokens,maxlen=max_length3,padding='post')\n",
        "\n",
        "unique_words = len(tokenizer.word_index)+1\n",
        "\n",
        "print(x_train_Article_pad.shape)\n",
        "print(x_train_Title_pad.shape)\n",
        "print(x_train_Author_pad.shape)\n",
        "print(x_test_Article_pad.shape)\n",
        "print(x_test_Title_pad.shape)\n",
        "print(x_test_Author_pad.shape)\n",
        "print('Found %d unique words.' % len(tokenizer.word_index))\n",
        "print('Found %d unique words.' % len(tokenizer2.word_index))\n",
        "print('Found %d unique words.' % len(tokenizer3.word_index))"
      ],
      "execution_count": 0,
      "outputs": [
        {
          "output_type": "stream",
          "text": [
            "(13092, 6485)\n",
            "(13092, 34)\n",
            "(13092, 4)\n",
            "(3273, 6485)\n",
            "(3273, 34)\n",
            "(3273, 4)\n",
            "Found 72848 unique words.\n",
            "Found 13579 unique words.\n",
            "Found 752 unique words.\n"
          ],
          "name": "stdout"
        }
      ]
    },
    {
      "cell_type": "code",
      "metadata": {
        "id": "AzujHgnLLq2Z",
        "colab_type": "code",
        "outputId": "f7f40701-c340-43af-a40e-b661d6254e12",
        "colab": {
          "base_uri": "https://localhost:8080/",
          "height": 36
        }
      },
      "source": [
        "import os\n",
        "import numpy as np\n",
        "embeddings_index = {}\n",
        "#GLOVE_DIR = 'glove.6B/'\n",
        "f = open('/content/drive/My Drive/Fake-News-Detection/glove.6B.50d.txt',encoding=\"utf8\")\n",
        "for line in f:\n",
        "    values = line.split()\n",
        "    word = values[0]\n",
        "    coefs = np.asarray(values[1:], dtype='float32')\n",
        "    embeddings_index[word] = coefs\n",
        "f.close()\n",
        "\n",
        "print('Found %s word vectors.' % len(embeddings_index))"
      ],
      "execution_count": 0,
      "outputs": [
        {
          "output_type": "stream",
          "text": [
            "Found 400000 word vectors.\n"
          ],
          "name": "stdout"
        }
      ]
    },
    {
      "cell_type": "code",
      "metadata": {
        "id": "85nruGpvLq2d",
        "colab_type": "code",
        "colab": {}
      },
      "source": [
        "word_index = tokenizer.word_index\n",
        "word_index2 = tokenizer2.word_index\n",
        "word_index3 = tokenizer3.word_index\n",
        "embedding_matrix = np.zeros((len(word_index) + 1, 50))\n",
        "for word, i in word_index.items():\n",
        "    embedding_vector = embeddings_index.get(word)\n",
        "    if embedding_vector is not None:\n",
        "        # words not found in embedding index will be all-zeros.\n",
        "        embedding_matrix[i] = embedding_vector\n",
        "embedding_matrix2 = np.zeros((len(word_index2) + 1, 50))\n",
        "for word, i in word_index2.items():\n",
        "    embedding_vector2 = embeddings_index.get(word)\n",
        "    if embedding_vector2 is not None:\n",
        "        # words not found in embedding index will be all-zeros.\n",
        "        embedding_matrix2[i] = embedding_vector2\n",
        "embedding_matrix3 = np.zeros((len(word_index3) + 1, 50))\n",
        "for word, i in word_index3.items():\n",
        "    embedding_vector3 = embeddings_index.get(word)\n",
        "    if embedding_vector3 is not None:\n",
        "        # words not found in embedding index will be all-zeros.\n",
        "        embedding_matrix3[i] = embedding_vector3"
      ],
      "execution_count": 0,
      "outputs": []
    },
    {
      "cell_type": "code",
      "metadata": {
        "id": "ZSM_mtXwBF5L",
        "colab_type": "code",
        "outputId": "3d22afba-88f3-41e3-afc8-0fd6c30ff36b",
        "colab": {
          "base_uri": "https://localhost:8080/",
          "height": 1000
        }
      },
      "source": [
        "%tensorflow_version 2.x\n",
        "import tensorflow as tf\n",
        "from tensorflow import keras\n",
        "from tensorflow.keras.layers import SimpleRNN, Dense,Conv1D, GlobalMaxPooling1D, Dropout, Embedding, BatchNormalization, Conv2D,Reshape,Activation,Concatenate, Input,LSTM,Bidirectional, GRU,MaxPool2D,Flatten, Dropout, Dense, Conv1D\n",
        "from keras.layers import MaxPool1D\n",
        "from keras.models import Model\n",
        "from keras.callbacks import ModelCheckpoint\n",
        "from keras.optimizers import Adam\n",
        "keras.backend.clear_session()\n",
        "np.random.seed(42)\n",
        "tf.random.set_seed(42)\n",
        "# the dimension of vectors to be used\n",
        "\n",
        "# set parameters:\n",
        "max_features = 5000\n",
        "maxlen = 400\n",
        "batch_size = 64\n",
        "embedding_dims = 50\n",
        "filters = 250\n",
        "kernel_size = 3\n",
        "hidden_dims = 250\n",
        "epochs = 20\n",
        "# # # # # # \n",
        "inputAr = Input(shape=max_length)\n",
        "input_Article=Embedding(len(word_index)+1,50,weights=[embedding_matrix],input_length=[embedding_matrix],trainable=True,name='Article')(inputAr)\n",
        "hidden2=Conv1D(filters,kernel_size,padding='valid',strides=1)(input_Article)\n",
        "#################\n",
        " \n",
        "# # # # # # # # # # # # # \n",
        "inputT = Input(shape=max_length2)\n",
        "input_Title=Embedding(len(word_index2)+1,50,weights=[embedding_matrix2],input_length=[embedding_matrix2],trainable=True,name='Title')(inputT )\n",
        "hidden2_2=Conv1D(filters,kernel_size,padding='valid',strides=1)(input_Title)\n",
        "\n",
        "# # # # # # # # # # # # # \n",
        "inputAu = Input(shape=max_length3)\n",
        "input_Author=Embedding(len(word_index3)+1,50,weights=[embedding_matrix3],input_length=[embedding_matrix3],trainable=True,name='Author')(inputAu  )\n",
        "hidden2_3=Conv1D(filters,kernel_size,padding='valid',strides=1)(input_Author)\n",
        "# # # # # # # # # # # # # \n",
        "maxpool_0 = GlobalMaxPooling1D()(hidden2)\n",
        "maxpool_1 = GlobalMaxPooling1D()(hidden2_2)\n",
        "maxpool_2 = GlobalMaxPooling1D()(hidden2_3)\n",
        "# # # # # # # # # # # # # \n",
        "\n",
        "concatenated_tensor = Concatenate(axis=1)([maxpool_0, maxpool_1, maxpool_2])\n",
        "# # # # # # # # # # # # # \n",
        "dropout = Dropout(0.4)(concatenated_tensor)\n",
        "dense = Dense(200,kernel_initializer='he_normal')(dropout)\n",
        "batch_norm2 = BatchNormalization()(dense)\n",
        "activation = Activation('relu')(batch_norm2)\n",
        "dense2 = Dense(50,kernel_initializer='he_normal')(activation)\n",
        "batch_norm3 = BatchNormalization()(dense2)\n",
        "activation2 = Activation('relu')(batch_norm3)\n",
        "dropout2 = Dropout(0.4)(activation2)\n",
        "output = Dense(6, activation='softmax')(dropout2)\n",
        "# # # # # # # # # # # # # \n",
        "\n",
        "# this creates a model that includes\n",
        "model = keras.Model(inputs=[inputAr,inputT,inputAu], outputs=[output])\n",
        "model.summary()"
      ],
      "execution_count": 0,
      "outputs": [
        {
          "output_type": "stream",
          "text": [
            "Model: \"model\"\n",
            "__________________________________________________________________________________________________\n",
            "Layer (type)                    Output Shape         Param #     Connected to                     \n",
            "==================================================================================================\n",
            "input_1 (InputLayer)            [(None, 6485)]       0                                            \n",
            "__________________________________________________________________________________________________\n",
            "input_2 (InputLayer)            [(None, 34)]         0                                            \n",
            "__________________________________________________________________________________________________\n",
            "input_3 (InputLayer)            [(None, 4)]          0                                            \n",
            "__________________________________________________________________________________________________\n",
            "Article (Embedding)             (None, 6485, 50)     3642450     input_1[0][0]                    \n",
            "__________________________________________________________________________________________________\n",
            "Title (Embedding)               (None, 34, 50)       679000      input_2[0][0]                    \n",
            "__________________________________________________________________________________________________\n",
            "Author (Embedding)              (None, 4, 50)        37650       input_3[0][0]                    \n",
            "__________________________________________________________________________________________________\n",
            "conv1d (Conv1D)                 (None, 6483, 250)    37750       Article[0][0]                    \n",
            "__________________________________________________________________________________________________\n",
            "conv1d_1 (Conv1D)               (None, 32, 250)      37750       Title[0][0]                      \n",
            "__________________________________________________________________________________________________\n",
            "conv1d_2 (Conv1D)               (None, 2, 250)       37750       Author[0][0]                     \n",
            "__________________________________________________________________________________________________\n",
            "global_max_pooling1d (GlobalMax (None, 250)          0           conv1d[0][0]                     \n",
            "__________________________________________________________________________________________________\n",
            "global_max_pooling1d_1 (GlobalM (None, 250)          0           conv1d_1[0][0]                   \n",
            "__________________________________________________________________________________________________\n",
            "global_max_pooling1d_2 (GlobalM (None, 250)          0           conv1d_2[0][0]                   \n",
            "__________________________________________________________________________________________________\n",
            "concatenate (Concatenate)       (None, 750)          0           global_max_pooling1d[0][0]       \n",
            "                                                                 global_max_pooling1d_1[0][0]     \n",
            "                                                                 global_max_pooling1d_2[0][0]     \n",
            "__________________________________________________________________________________________________\n",
            "dropout (Dropout)               (None, 750)          0           concatenate[0][0]                \n",
            "__________________________________________________________________________________________________\n",
            "dense (Dense)                   (None, 200)          150200      dropout[0][0]                    \n",
            "__________________________________________________________________________________________________\n",
            "batch_normalization (BatchNorma (None, 200)          800         dense[0][0]                      \n",
            "__________________________________________________________________________________________________\n",
            "activation (Activation)         (None, 200)          0           batch_normalization[0][0]        \n",
            "__________________________________________________________________________________________________\n",
            "dense_1 (Dense)                 (None, 50)           10050       activation[0][0]                 \n",
            "__________________________________________________________________________________________________\n",
            "batch_normalization_1 (BatchNor (None, 50)           200         dense_1[0][0]                    \n",
            "__________________________________________________________________________________________________\n",
            "activation_1 (Activation)       (None, 50)           0           batch_normalization_1[0][0]      \n",
            "__________________________________________________________________________________________________\n",
            "dropout_1 (Dropout)             (None, 50)           0           activation_1[0][0]               \n",
            "__________________________________________________________________________________________________\n",
            "dense_2 (Dense)                 (None, 6)            306         dropout_1[0][0]                  \n",
            "==================================================================================================\n",
            "Total params: 4,633,906\n",
            "Trainable params: 4,633,406\n",
            "Non-trainable params: 500\n",
            "__________________________________________________________________________________________________\n"
          ],
          "name": "stdout"
        }
      ]
    },
    {
      "cell_type": "code",
      "metadata": {
        "id": "sHx1qzG3Lq2l",
        "colab_type": "code",
        "outputId": "74efc739-3cf7-4750-ee2d-f7ba154bd468",
        "colab": {
          "base_uri": "https://localhost:8080/",
          "height": 796
        }
      },
      "source": [
        "import numpy as np\n",
        "import time\n",
        "\n",
        "y_train = np.array(y_train)\n",
        "y_test = np.array(y_test)\n",
        "\n",
        "start_time_bi_CNN = time.time()\n",
        "model.compile(loss='sparse_categorical_crossentropy',optimizer='adam',metrics=['accuracy'])\n",
        "history = model.fit((x_train_Article_pad, x_train_Title_pad, x_train_Author_pad), y_train, epochs=20,validation_split=0.2,batch_size=64)\n",
        "\n",
        "end_time_bi_CNN = time.time()"
      ],
      "execution_count": 0,
      "outputs": [
        {
          "output_type": "stream",
          "text": [
            "Train on 10473 samples, validate on 2619 samples\n",
            "Epoch 1/20\n",
            "10473/10473 [==============================] - 48s 5ms/sample - loss: 1.8954 - accuracy: 0.2381 - val_loss: 1.4161 - val_accuracy: 0.3608\n",
            "Epoch 2/20\n",
            "10473/10473 [==============================] - 45s 4ms/sample - loss: 1.1654 - accuracy: 0.5465 - val_loss: 0.5716 - val_accuracy: 0.8030\n",
            "Epoch 3/20\n",
            "10473/10473 [==============================] - 45s 4ms/sample - loss: 0.6361 - accuracy: 0.7749 - val_loss: 0.3133 - val_accuracy: 0.8809\n",
            "Epoch 4/20\n",
            "10473/10473 [==============================] - 45s 4ms/sample - loss: 0.3566 - accuracy: 0.8892 - val_loss: 0.1150 - val_accuracy: 0.9767\n",
            "Epoch 5/20\n",
            "10473/10473 [==============================] - 45s 4ms/sample - loss: 0.1714 - accuracy: 0.9588 - val_loss: 0.0631 - val_accuracy: 0.9855\n",
            "Epoch 6/20\n",
            "10473/10473 [==============================] - 45s 4ms/sample - loss: 0.1054 - accuracy: 0.9759 - val_loss: 0.0385 - val_accuracy: 0.9897\n",
            "Epoch 7/20\n",
            "10473/10473 [==============================] - 45s 4ms/sample - loss: 0.0762 - accuracy: 0.9824 - val_loss: 0.0389 - val_accuracy: 0.9901\n",
            "Epoch 8/20\n",
            "10473/10473 [==============================] - 45s 4ms/sample - loss: 0.0578 - accuracy: 0.9867 - val_loss: 0.0359 - val_accuracy: 0.9897\n",
            "Epoch 9/20\n",
            "10473/10473 [==============================] - 45s 4ms/sample - loss: 0.0434 - accuracy: 0.9903 - val_loss: 0.0316 - val_accuracy: 0.9912\n",
            "Epoch 10/20\n",
            "10473/10473 [==============================] - 45s 4ms/sample - loss: 0.0334 - accuracy: 0.9931 - val_loss: 0.0359 - val_accuracy: 0.9905\n",
            "Epoch 11/20\n",
            "10473/10473 [==============================] - 45s 4ms/sample - loss: 0.0277 - accuracy: 0.9935 - val_loss: 0.0349 - val_accuracy: 0.9908\n",
            "Epoch 12/20\n",
            "10473/10473 [==============================] - 45s 4ms/sample - loss: 0.0210 - accuracy: 0.9956 - val_loss: 0.0346 - val_accuracy: 0.9912\n",
            "Epoch 13/20\n",
            "10473/10473 [==============================] - 45s 4ms/sample - loss: 0.0199 - accuracy: 0.9957 - val_loss: 0.0367 - val_accuracy: 0.9908\n",
            "Epoch 14/20\n",
            "10473/10473 [==============================] - 45s 4ms/sample - loss: 0.0176 - accuracy: 0.9968 - val_loss: 0.0378 - val_accuracy: 0.9916\n",
            "Epoch 15/20\n",
            "10473/10473 [==============================] - 45s 4ms/sample - loss: 0.0169 - accuracy: 0.9954 - val_loss: 0.0354 - val_accuracy: 0.9905\n",
            "Epoch 16/20\n",
            "10473/10473 [==============================] - 45s 4ms/sample - loss: 0.0123 - accuracy: 0.9973 - val_loss: 0.0430 - val_accuracy: 0.9905\n",
            "Epoch 17/20\n",
            "10473/10473 [==============================] - 45s 4ms/sample - loss: 0.0116 - accuracy: 0.9974 - val_loss: 0.0429 - val_accuracy: 0.9920\n",
            "Epoch 18/20\n",
            "10473/10473 [==============================] - 45s 4ms/sample - loss: 0.0116 - accuracy: 0.9969 - val_loss: 0.0424 - val_accuracy: 0.9916\n",
            "Epoch 19/20\n",
            "10473/10473 [==============================] - 45s 4ms/sample - loss: 0.0113 - accuracy: 0.9973 - val_loss: 0.0528 - val_accuracy: 0.9885\n",
            "Epoch 20/20\n",
            "10473/10473 [==============================] - 45s 4ms/sample - loss: 0.0128 - accuracy: 0.9964 - val_loss: 0.0401 - val_accuracy: 0.9908\n"
          ],
          "name": "stdout"
        }
      ]
    },
    {
      "cell_type": "code",
      "metadata": {
        "id": "lH2bmmtksEgB",
        "colab_type": "code",
        "outputId": "bd166f25-cb58-4873-ca13-379568c283c7",
        "colab": {
          "base_uri": "https://localhost:8080/",
          "height": 75
        }
      },
      "source": [
        "model.evaluate((x_test_Article_pad,x_test_Title_pad,x_test_Author_pad),y_test)"
      ],
      "execution_count": 0,
      "outputs": [
        {
          "output_type": "stream",
          "text": [
            "\r3273/1 [==============================================================================================================================================================================================================================================================================================================================================================================================================================================================================================================================================================================================================================================================================================================================================================================================================================================================================================================================================================================================================================================================================================================================================================================================================================================================================================================================================================================================================================================================================================================================================================================================================================================================================================================================================================================================================================================================================================================================================================================================================================================================================================================================================================================================================================================================================================================================================================================================================================================================================================================================================================================================================================================================================================================================================================================================================================================================================================================================================================================================================================================================================================================================================================================================================================================================================================================================================================================================================================================================================================================================================================================================================================================================================================================================================================================================================================================================================================================================================================================================================================================================================================================================================================================================================================================================================================================================================================================================================================================================================================================================================================================================================================================================================================================================================================================================================================================================================================================================================================================================================================================================================================================================================================================================================================================================================================================================================================================================================================================================================================================================================================================================================================================================================================================================================================================================================================================================================================================================================================================================================================================================================================================================================================================================================================================================================================================================================================================================================================================================================================================================================================================================================================================================================================================================================================================================================================================================================================================================================================================================================================================================================================================================================================================================================================================================================================================================================================================================================================================================================================================================================================================================================================================================================================================================================================================================================================================================================================================================================================================================================================================================================================================================================================================================================================================================================================================================================================================================================================================================================================================================================================================================================================================================================================================================================================================================================================================================================================================================================================================================================================================================================================================================================================================================================================================================================================================================================================================================================================================================================================================================================================================================================================================================================================================================================================================================================================================================================================================================================================================================================================================================================================================================================================================================================================================================================================================================================================================================================================================================================================================================================================================================================================================================================================================================================================================================================================================================================================================================================================================================================================================================================================================================================================================================================================================================================================================================================================================================================================================================================================================================================================================================================================================================================================================================================================================================================================================================================================================================================================================================================================================================================================================================================================================================================================================================================================================================================================================================================================================================================================================================================================================================================================================================================================================================================================================================================================================================================================================================================================================================================================================================================================================================================================================================================================================================================================================================================================================================================================================================================================================================================================================================================================================================================================================================================================================================================================================================================================================================================================================================================================================================================================================================================================================================================================================================================================================================================================================================================================================================================================================================================================================================================================================================================================================================================================================================================================================================================================================================================================================================================================================================================================================================================================================================================================================================================================================================================================================================================================================================================================================================================================================================================================================================================================================================================================================================================================================================================================================================================================================================================================================================================================================================================================================================================================================================================================================================================================================================================================================================================================================================================================================================================================================================================================================================================================================================================================================================================================================================================================================================================================================================================================================================================================================================================================================================================================================================================================================================================================================================================================================================================================================================================================================================================================================================================================================================================================================================================================================================================================================================================================================================================================================================================================================================================================================================================================================================================================================================================================================================================================================================================================================================================================================================================================================================================================================================================================================================================================================================================================================================================================================================================================================================================================================================================================================================================================================================================================================================================================================================================================================================================================================================================================================================================================================================================================================================================================================================================================================================================================================================================================================================================================================================================================================================================================================================================================================================================================================================================================================================================================================================================================================================================================================================================================================================================================================================================================================================================================================================================================================================================================================================================================================================================================================================================================================================================================================================================================================================================================================================================================================================================================================================================================================================================================================================================================================================================================================================================================================================================================================================================================================================================================================================================================================================================================================================================================================================================================================================================================================================================================================================================================================================================================================================================================================================================================================================================================================================================================================================================================================================================================================================================================================================================================================================================================================================================================================================================================================================================================================================================================================================================================================================================================================================================================================================================================================================================================================================================================================================================================================================================================================================================================================================================================================================================================================================================================================================================================================================================================================================================================================================================================================================================================================================================================================================================================================================================================================================================================================================================================================================================================================================================================================================================================================================================================================================================================================================================================================================================================================================================================================================================================================================================================================================================================================================================================================================================================================================================================================================================================================================================================================================================================================================================================================================================================================================================================================================================================================================================================================================================================================================================================================================================================================================================================================================================================================================================================================================================================================================================================================================================================================================================================================================================================================================================================================================================================================================================================================================================================================================================================================================================================================================================================================================================================================================================================================================================================================================================================================================================================================================================================================================================================================================================================================================================================================================================================================================================================================================================================================================================================================================================================================================================================================================================================================================================================================================================================================================================================================================================================================================================================================================================================================================================================================================================================================================================================================================================================================================================================================================================================================================================================================================================================================================================================================================================================================================================================================================================================================================================================================================================================================================================================================================================================================================================================================================================================================================================================================================================================================================================================================================================================================================================================================================================================================================================================================================================================================================================================================================================================================================================================================================================================================================================================================================================================================================================================================================================================================================================================================================================================================================================================================================================================================================================================================================================================================================================================================================================================================================================================================================================================================================================================================================================================================================================================================================================================================================================================================================================================================================================================================================================================================================================================================================================================================================================================================================================================================================================================================================================================================================================================================================================================================================================================================================================================================================================================================================================================================================================================================================================================================================================================================================================================================================================================================================================================================================================================================================================================================================================================================================================================================================================================================================================================================================================================================================================================================================================================================================================================================================================================================================================================================================================================================================================================================================================================================================================================================================================================================================================================================================================================================================================================================================================================================================================================================================================================================================================================================================================================================================================================================================================================================================================================================================================================================================================================================================================================================================================================================================================================================================================================================================================================================================================================================================================================================================================================================================================================================================================================================================================================================================================================================================================================================================================================================================================================================================================================================================================================================================================================================================================================================================================================================================================================================================================================================================================================================================================================================================================================================================================================================================================================================================================================================================================================================================================================================================================================================================================================================================================================================================================================================================================================================================================================================================================================================================================================================================================================================================================================================================================================================================================================================================================================================================================================================================================================================================================================================================================================================================================================================================================================================================================================================================================================================================================================================================================================================================================================================================================================================================================================================================================================================================================================================================================================================================================================================================================================================================================================================================================================================================================================================================================================================================================================================================================================================================================================================================================================================================================================================================================================================================================================================================================================================================================================================================================================================================================================================================================================================================================================================================================================================================================================================================================================================================================================================================================================================================================================================================================================================================================================================================================================================================================================================================================================================================================================================================================================================================================================================================================================================================================================================================================================================================================================================================================================================================================================================================================================================================================================================================================================================================================================================================================================================================================================================================================================================================================================================================================================================================================================================================================================================================================================================================================================================================================================================================================================================================================================================================================================================================================================================================================================================================================================================================================================================================================================================================================================================================================================================================================================================================================================================================================================================================================================================================================================================================================================================================================================================================================================================================================================================================================================================================================================================================================================================================================================================================================================================================================================================================================================================================================================================================================================================================================================================================================================================================================================================================================================================================================================================================================================================================================================================================================================================================================================================================================================================================================================================================================================================================================================================================================================================================================================================================================================================================================================================================================================================================================================================================================================================================================================================================================================================================================================================================================================================================================================================================================================================================================================================================================================================================================================================================================================================================================================================================================================================================================================================================================================================================================================================================================================================================================================================================================================================================================================================================================================================================================================================================================================================================================================================================================================================================================================================================================================================================================================================================================================================================================================================================================================================================================================================================================================================================================================================================================================================================================================================================================================================================================================================================================================================================================================================================================================================================================================================================================================================================================================================================================================================================================================================================================================================================================================================================================================================================================================================================================================================================================================================================================================================================================================================================================================================================================================================================================================================================================================================================================================================================================================================================================================================================================================================================================================================================================================================================================================================================================================================================================================================================================================================================================================================================================================================================================================================================================================================================================================================================================================================================================================================================================================================================================================================================================================================================================================================================================================================================================================================================================================================================================================================================================================================================================================================================================================================================================================================================================================================================================================================================================================================================================================================================================================================================================================================================================================================================================================================================================================================================================================================================================================================================================================================================================================================================================================================================================================================================================================================================================================================================================================================================================================================================================================================================================================================================================================================================================================================================================================================================================================================================================================================================================================================================================================================================================================================================================================================================================================================================================================================================================================================================================================================================================================================================================================================================================================================================================================================================================================================================================================================================================================================================================================================================================================================================================================================================================================================================================================================================================================================================================================================================================================================================================================================================================================================================================================================================================================================================================================================================================================================================================================================================================================================================================================================================================================================================================================================================================================================================================================================================================================================================================================================================================================================================================================================================================================================================================================================================================================================================================================================================================================================================================================================================================================================================================================================================================================================================================================================================================================================================================================================================================================================================================================================================================================================================================================================================================================================================================================================================================================================================================================================================================================================================================================================================================================================================================================================================================================================================================================================================================================================================================================================================================================================================================================================================================================================================================================================================================================================================================================================================================================================================================================================================================================================================================================================================================================================================================================================================================================================================================================================================================================================================================================================================================================================================================================================================================================================================================================================================================================================================================================================================================================================================================================================================================================================================================================================================================================================================================================================================================================================================================================================================================================================================================================================================================================================================================================================================================================================================================================================================================================================================================================================================================================================================================================================================================================================================================================================================================================================================================================================================================================================================================================================================================================================================================================================================================================================================================================================================================================================================================================================================================================================================================================================================================================================================================================================================================================================================================================================================================================================================================================================================================================================================================================================================================================================================================================================================================================================================================================================================================================================================================================================================================================================================================================================================================================================================================================================================================================================================================================================================================================================================================================================================================================================================================================================================================================================================================================================================================================================================================================================================================================================================================================================================================================================================================================================================================================================================================================================================================================================================================================================================================================================================================================================================================================================================================================================================================================================================================================================================================================================================================================================================================================================================================================================================================================================================================================================================================================================================================================================================================================================================================================================================================================================================================================================================================================================================================================================================================================================================================================================================================================================================================================================================================================================================================================================================================================================================================================================================================================================================================================================================================================================================================================================================================================================================================================================================================================================================================================================================================================================================================================================================================================================================================================================================================================================================================================================================================================================================================================================================================================================================================================================================================================================================================================================================================================================================================================================================================================================================================================================================================================================================================================================================================================================================================================================================================================================================================================================================================================================================================================================================================================================================================================================================================================================================================================================================================================================================================================================================================================================================================================================================================================================================================================================================================================================================================================================================================================================================================================================================================================================================================================================================================================================================================================================================================================================================================================================================================================================================================================================================================================================================================================================================================================================================================================================================================================================================================================================================================================================================================================================================================================================================================================================================================================================================================================================================================================================================================================================================================================================================================================================================================================================================================================================================================================================================================================================================================================================================================================================================================================================================================================================================================================================================================================================================================================================================================================================================================================================================================================================================================================================================================================================================================================================================================================================================================================================================================================================================================================================================================================================================================================================================================================================================================================================================================================================================================================================================================================================================================================================================================================================================================================================================================================================================================================================================================================================================================================================================================================================================================================================================================================================================================================================================================================================================================================================================================================================================================================================================================================================================================================================================================================================================================================================================================================================================================================================================================================================================================================================================================================================================================================================================================================================================================================================================================================================================================================================================================================================================================================================================================================================================================================================================================================================================================================================================================================================================================================================================================================================================================================================================================================================================================================================================================================================================================================================================================================================================================================================================================================================================================================================================================================================================================================================================================================================================================================================================================================================================================================================================================================================================================================================================================================================================================================================================================================================================================================================================================================================================================================================================================================================================================================================================================================================================================================================================================================================================================================================================================================================================================================================================================================================================================================================================================================================================================================================================================================================================================================================================================================================================================================================================================================================================================================================================================================================================================================================================================================================================================================================================================================================================================================================================================================================================================================================================================================================================================================================================================================================================================================================================================================================================================================================================================================================================================================================================================================================================================================================================================================================================================================================================================================================================================================================================================================================================================================================================================================================================================================================================================================================================================================================================================================================================================================================================================================================================================================================================================================================================================================================================================================================================================================================================================================================================================================================================================================================================================================================================================================================================================================================================================================================================================================================================================================================================================================================================================================================================================================================================================================================================================================================================================================================================================================================================================================================================================================================================================================================================================================================================================================================================================================================================================================================================================================================================================================================================================================================================================================================================================================================================================================================================================================================================================================================================================================================================================================================================================================================================================================================================================================================================================================================================================================================================================================================================================================================================================================================================================================================================================================================================================================================================================================================================================================================================================================================================================================================================================================================================================================================================================================================================================================================================================================================================================================================================================================================================================================================================================================================================================================================================================================================================================================================================================================================================================================================================================================================================================================================================================================================================================================================================================================================================================================================================================================================================================================================================================================================================================================================================================================================================================================================================================================================================================================================================================================================================================================================================================================================================================================================================================================================================================================================================================================================================================================================================================================================================================================================================================================================================================================================================================================================================================================================================================================================================================================================================================================================================================================================================================================================================================================================================================================================================================================================================================================================================================================================================================================================================================================================================================================================================================================================================================================================================================================================================================================================================================================================================================================================================================================================================================================================================================================================================================================================================================================================================================================================================================================================================================================================================================================================================================================================================================================================================================================================================================================================================================================================================================================================================================================================================================================================================================================================================================================================================================================================================================================================================================================================================================================================================================================================================================================================================================================================================================================================================================================================================================================================================================================================================================================================================================================================================================================================================================================================================================================================================================================================================================================================================================================================================================================================================================================================================================================================================================================================================================================================================================================================================================================================================================================================================================================================================================================================================================================================================================================================================================================================================================================================================================================================================================================================================================================================================================================================================================================================================================================================================================================================================================================================================================================================================================================================================================================================================================================================================================================================================================================================================================================================================================================================================================================================================================================================================================================================================================================================================================================================================================================================================================================================================================================================================================================================================================================================================================================================================================================================================================================================================================================================================================================================================================================================================================================================================================================================================================================================================================================================================================================================================================================================================================================================================================================================================================================================================================================================================================================================================================================================================================================================================================================================================================================================================================================================================================================================================================================================================================================================================================================================================================================================================================================================================================================================================================================================================================================================================================================================================================================================================================================================================================================================================================================================================================================================================================================================================================================================================================================================================================================================================================================================================================================================================================================================================================================================================================================================================================================================================================================================================================================================================================================================================================================================================================================================================================================================================================================================================================================================================================================================================================================================================================================================================================================================================================================================================================================================================================================================================================================================================================================================================================================================================================================================================================================================================================================================================================================================================================================================================================================================================================================================================================================================================================================================================================================================================================================================================================================================================================================================================================================================================================================================================================================================================================================================================================================================================================================================================================================================================================================================================================================================================================================================================================================================================================================================================================================================================================================================================================================================================================================================================================================================================================================================================================================================================================================================================================================================================================================================================================================================================================================================================================================================================================================================================================================================================================================================================================================================================================================================================================================================================================================================================================================================================================================================================================================================================================================================================================================================================================================================================================================================================================================================================================================================================================================================================================================================================================================================================================================================================================================================================================================================================================================================================================================================================================================================================================================================================================================================================================================================================================================================================================================================================================================================================================================================================================================================================================================================================================================================================================================================================================] - 4s 1ms/sample - loss: 0.0202 - accuracy: 0.9924\n"
          ],
          "name": "stdout"
        },
        {
          "output_type": "execute_result",
          "data": {
            "text/plain": [
              "[0.04032453018225745, 0.9923617]"
            ]
          },
          "metadata": {
            "tags": []
          },
          "execution_count": 66
        }
      ]
    },
    {
      "cell_type": "code",
      "metadata": {
        "id": "aaxbcR_G2lve",
        "colab_type": "code",
        "outputId": "a6a9ba90-0ec4-490f-ce05-287291b63316",
        "colab": {
          "base_uri": "https://localhost:8080/",
          "height": 169
        }
      },
      "source": [
        "Author='Jeremy Herb'\n",
        "Title='Democrats release impeachment report detailing overwhelming evidence of misconduct and obstruction'\n",
        "Article=\"\"\"House Democrats say evidence of President Donald Trump's misconduct and obstruction of Congress is \"overwhelming,\" charging that Trump's conduct toward Ukraine compromised national security in a new report released Tuesday that will form the backbone of the impeachment proceedings against the President.\n",
        "\n",
        "The 300-page report from the House Intelligence Committee sets the stage for the impeachment of a US president for just the third time in history. The report stops short of outright recommending impeachment, with House Intelligence Chairman Adam Schiff and the other committee chairs leading the inquiry said that was a decision Congress ultimately has to make.\n",
        "But the report makes clear that's where Democrats are heading.\n",
        "\"I'm going to reserve any kind of a public judgment on that until I have a chance to consult with my colleagues, with our leadership,\" Schiff, a California Democrat, said when asked if there was evidence for impeachment. \"As you can tell, I am gravely concerned that if we merely accept this that we invite not only further corruption of our elections by this President, but we also invite it of the next president.\"\n",
        "The report release kicks off what's poised to be a frenzied month in the House, with Democrats on track to potentially vote on impeaching Trump by Christmas. The House Intelligence Committee will vote to approve the report Tuesday evening, and will then send it to the Judiciary Committee, which plans to hold hearings and would draft articles of impeachment against Trump.\n",
        "The report is broken down into two sections, one on Ukraine and the other on obstruction of Congress — both of which are expected to be separate articles of impeachment.\n",
        "Democrats alleged that the July 25 call between Trump and Ukrainian President Volodymyr Zelensky — in which Trump asked Zelensky to investigate former Vice President Joe Biden — was the \"dramatic crescendo\" of a months-long campaign driven by the President that involved a number of senior officials, including Vice President Mike Pence, Secretary of State Mike Pompeo and acting chief of staff Mick Mulvaney.\n",
        "\"The President engaged in this course of conduct for the benefit of his own presidential reelection, to harm the election prospects of a political rival, and to influence our nation's upcoming presidential election to his advantage,\" the report says. \"In doing so, the President placed his own personal and political interests above the national interests of the United States, sought to undermine the integrity of the US presidential election process, and endangered US national security.\"\n",
        "Democrats charged that the White House's obstruction of their impeachment investigation was an \"unprecedented campaign,\" detailing the numerous subpoenas that were defied over the two-month investigation.\n",
        "\"Indeed, it would be hard to imagine a stronger or more complete case of obstruction than that demonstrated by the President since the inquiry began,\" the report says.\n",
        "Schiff said that the report does not answer every question Democrats have investigated, in part, he argued, because of the White House stonewalling. But he argued there was a \"grave risk to the country with waiting until we have every last fact, when we already know enough about the President's misconduct to make a responsible judgment about whether we think that's compatible with the office of the President.\"\n",
        "The White House and congressional Republicans have rejected the Democratic allegations and dismissed the Democratic report on Tuesday. Congressional Republicans released their report ahead of the Democrats on Monday, a document that fully defended the President's actions on Ukraine and accused Democrats of rushing to impeach the President without any evidence that Trump did anything wrong.\n",
        "\"At the end of a one-sided sham process, Chairman Schiff and the Democrats utterly failed to produce any evidence of wrongdoing by President Trump,\" White House press secretary Stephanie Grisham said in a statement. \"This report reflects nothing more than their frustrations. Chairman Schiff's report reads like the ramblings of a basement blogger straining to prove something when there is evidence of nothing.\"\n",
        "Democrats subpoenaed phone records\n",
        "The Democratic report is based largely on the 17 witness interviews that were conducted over a two-month investigation that was sparked by an anonymous whistleblower complaint alleging Trump solicited foreign help with his 2020 reelection campaign.\n",
        "The main outlines of the story have been well documented in the two weeks of public testimony with 12 witnesses, in which multiple officials detailed an effort spearheaded by the President's personal attorney Rudy Giuliani to oust then-US Ambassador to Ukraine Marie Yovanovitch and then push Kiev to announce investigations into the President's political rivals.\n",
        "But there are nuggets in the report that were previously unknown -- most notably a batch of phone logs that Democrats say were obtained by subpoenaing third-party phone records.\n",
        "The Democrats' narrative begins with Trump recalling Yovanovitch in April. This wasn't a one-off incident, the report argues, but rather a step Trump took so he could install his own appointees to subvert US policy on Ukraine.\n",
        "Democrats accused Trump's allies of coordinating with conservative journalist John Solomon to peddle \"false narratives\" about Yovanovitch as part of his multi-pronged pressure campaign. The House Intelligence Committee report says Rep. Devin Nunes of California, the top Republican on the panel, was linked to this scheme.\n",
        "\"President Trump forced her out following a baseless smear campaign promoted by his personal attorney, Rudy Giuliani, associates of Mr. Giuliani, and corrupt Ukrainians,\" the report said. \"Her ouster set the stage for other U.S. officials appointed by President Trump to work in cooperation with Mr. Giuliani to advance a scheme in support of the President's reelection.\"\n",
        "The call logs also spur new questions, such as why Giuliani made several phone calls to the Office of Management and Budget and the White House in April, as the campaign against Yovanovitch was in full swing.\n",
        "The report did not explicitly say how Democrats obtained these call logs, which are labeled as coming from AT&T, which owns CNN, and Verizon document productions. But Rep. Eric Swalwell, a California Democrat who sits on the committee, told CNN on Tuesday that the panel \"subpoenaed outside third-party phone records.\"\n",
        "\"Like all companies, we are required by law to provide information to government and law enforcement agencies. In all cases, we ensure that requests for assistance are valid and that we act in compliance with the law,\" said Jim Greer, a spokesman for AT&T.\n",
        "Asked about Nunes' involvement, Schiff said: \"There's a lot more to learn about that and I don't want to state that that is an unequivocal fact, but the allegations are deeply concerning.\"\n",
        "A Nunes spokesman did not respond to a request for comment.\n",
        "Democrats say top officials part of Ukraine effort\n",
        "The report charges that the Ukraine pressure campaign extended far beyond Trump and Giuliani into the administration, singling out a number of senior administration officials — including the vice president — of having knowledge of or participating in the effort.\n",
        "US Ambassador to the European Union Gordon Sondland testified that he told Pence during a trip to Warsaw in early September that the withholding of military aid had \"become tied to the issue of investigations.\" Democrats accused Pence of crafting a \"carefully worded statement\" during Sondland's testimony, arguing that the statement did not address the actual claims Sondland made.\n",
        "\"Ambassador Sondland did not testify that he specifically mentioned the Bidens, Burisma, or the conditional release of financial aid to Ukraine during his discussion with Vice President Pence, nor did he testify that he was alone with the Vice President,\" the report says.\n",
        "Marc Short, Pence's chief of staff, responded that \"Adam Schiff is a proven liar and this allegation further solidifies that well-earned reputation.\"\n",
        "Democrats argue that Pompeo, who listened into the July 25 call with Zelensky, was fully aware of Sondland's efforts to \"break the logjam\" of military aid to Ukraine and that it was conditioned on Zelensky announcing his intent to move forward with investigations.\n",
        "The report also states that Pompeo not only refused to issue a public statement of support for Yovanovitch amid a smear campaign that was being launched against her, but that he was also in contact with Giuliani at that time.\n",
        "Questions still unanswered\n",
        "The release of the report kicks the impeachment proceedings into the Judiciary Committee, which will have its first hearing Wednesday and is expected to draft and consider articles of impeachment in the coming days.\n",
        "But the Intelligence Committee said that its investigation is still ongoing, Schiff said, as impeachment investigators were unable to answer some key questions due to the Trump administration's refusal to participate in the impeachment inquiry.\n",
        "For instance, the Intelligence Committee was unable to determine if the resignation of former national security adviser John Bolton -- on September 10, amid the first reports of a whistleblower complaint -- was related to the Ukraine matter, because Bolton and his top deputy, Charles Kupperman, refused to testify for lawmakers, the report says.\n",
        "The report also relies on the reporting of The New York Times to explain why Trump first learned of the existence of the whistleblower complaint, which the paper said came in a briefing with the White House counsel and a National Security Council lawyer in late August.\n",
        "It also remains unclear why Trump lifted the hold on the military aid to Ukraine.\n",
        "\"Just like there was no official explanation for why the hold on Ukraine security assistance was implemented, numerous witnesses testified that they were not provided with a reason for why the hold was lifted on September 11,\" the report says.\n",
        "On the evening of September 11, before the hold was lifted, Trump met with Pence, Mulvaney and Sen. Rob Portman, an Ohio Republican, to discuss the hold. Around 8 that night, Mulvaney's office informed Kupperman that the hold had been lifted, the report says, citing witness testimony.\n",
        "A 'chilling threat'\n",
        "The obstruction of Congress section of the report lays out the historical precedent for including it as an article of impeachment, explaining that House Democrats have to demonstrate that the President made no good faith effort to cooperate with their probe -- a standard they say has been clearly met.\n",
        "\"Donald Trump is the first and only President in American history to openly and indiscriminately defy all aspects of the Constitutional impeachment process,\" the report says. \"Following President Trump's categorical order, not a single document has been produced by the White House, the Office of the Vice President, the Office of Management and Budget, the Department of State, the Department of Defense, or the Department of Energy.\"\n",
        "Democrats also accused Trump of trying to intimidate witnesses and attacking those who reponded to request for subpoenas.\n",
        "\"President Trump engaged in a brazen effort to publicly attack and intimidate witnesses who came forward,\" the report says, adding that the President's efforts \"deprived Congress and the public of additional evidence\n",
        "And the report criticizes Trump's \"obsessive\" focus on the whistleblower, alleging he made \"more than 100 public statements about the whistleblower over a period of just two months,\" including what the committee called a \"chilling threat\" -- his comment that the whistleblower should face the consequences for spying.\n",
        "The report charges that Trump's actions toward Ukraine endangered and compromised national security by soliciting foreign interference in the 2020 election and withholding $391 million in US security aid from Kiev.\n",
        "Democrats allege that Trump's pressure campaign against the Ukrainians persists, with Trump still exerting control over the Ukrainian leader through the US's military and financial advantages.\n",
        "\"Although President Zelensky did not publicly announce the investigations that President Trump wanted, he remains under pressure from President Trump, particularly because he requires diplomatic, financial, and military backing from the United States, the most powerful supporter of Ukraine. That pressure continues to this day,\" the report says.\n",
        "Democrats also charge that Trump continues to solicit foreign interference -- from China and Russia -- to investigate the Bidens, adding to the urgency for Congress to respond: \"This continued solicitation of foreign interference in a US election presents a clear and present danger that the President will continue to use the power of his office for his personal political gain.\"\"\"\n",
        "\n",
        "\n",
        "data = {'Title':[Title],'Article':[Article],'Author':[Author]}\n",
        "data = pd.DataFrame(data)\n",
        "data = Preprocess_text(data)\n",
        "data_Article = tokenizer.texts_to_sequences(list(data['Article']))\n",
        "data_Article_pad = pad_sequences(data_Article,maxlen=max_length,padding='post')\n",
        "print(data_Article_pad.shape)\n",
        "\n",
        "data_Title = tokenizer2.texts_to_sequences(list(data['Title']))\n",
        "data_Title_pad = pad_sequences(data_Title,maxlen=max_length2,padding='post')\n",
        "print(data_Title_pad.shape)\n",
        "\n",
        "data_Author = tokenizer3.texts_to_sequences(list(data['Author']))\n",
        "data_Author_pad = pad_sequences(data_Author,maxlen=max_length3,padding='post')\n",
        "print(data_Author_pad.shape)\n",
        "\n",
        "x_test_Article20 = x_test_Article_pad[20,:].reshape(1,-1)\n",
        "print(x_test_Article20.shape)\n",
        "x_test_Title20 = x_test_Title_pad[20,:].reshape(1,-1)\n",
        "print(x_test_Title20.shape)\n",
        "x_test_Author20 = x_test_Author_pad[20,:].reshape(1,-1)\n",
        "print(x_test_Author20.shape)\n",
        "y_predict = model.predict((x_test_Article20,x_test_Title20,x_test_Author20))\n",
        "print(\"Predicted result: {}\".format(labelencoder.classes_[np.argmax(y_predict)]))\n",
        "print(\"Real result: {}\".format(labelencoder.classes_[y_test[20]]))  \n"
      ],
      "execution_count": 91,
      "outputs": [
        {
          "output_type": "stream",
          "text": [
            "(1, 6485)\n",
            "(1, 34)\n",
            "(1, 4)\n",
            "(1, 6485)\n",
            "(1, 34)\n",
            "(1, 4)\n",
            "Predicted result: TRUE\n",
            "Real result: TRUE\n"
          ],
          "name": "stdout"
        }
      ]
    },
    {
      "cell_type": "code",
      "metadata": {
        "id": "m_aDbuBZuGXx",
        "colab_type": "code",
        "outputId": "c4953ff9-3817-4bff-bed4-947b808bf1a2",
        "colab": {
          "base_uri": "https://localhost:8080/",
          "height": 36
        }
      },
      "source": [
        "end_time_bi_CNN = round(end_time_bi_CNN / (60 * 60 ), 2)\n",
        "start_time_bi_CNN = round(start_time_bi_CNN / (60 * 60 ), 2) \n",
        "print(\"Time elapsed for training Bidirectional CNN model \", end_time_bi_CNN - start_time_bi_CNN, \"hours\" )"
      ],
      "execution_count": 0,
      "outputs": [
        {
          "output_type": "stream",
          "text": [
            "Time elapsed for training Bidirectional CNN model  0.15000000002328306 hours\n"
          ],
          "name": "stdout"
        }
      ]
    },
    {
      "cell_type": "code",
      "metadata": {
        "id": "G-jw-mriLq2o",
        "colab_type": "code",
        "outputId": "6ff828f3-91af-4df1-d06a-f8bb23cdc59e",
        "colab": {
          "base_uri": "https://localhost:8080/",
          "height": 352
        }
      },
      "source": [
        "%matplotlib inline\n",
        "from matplotlib import pyplot\n",
        "test_acc_bi_lstm = model.evaluate((x_test_Article_pad, x_test_Title_pad, x_test_Author_pad), y_test, verbose=0)\n",
        "print(\"Traiing and validation loss\")\n",
        "print('Test loss: %.3f' % (test_acc_bi_lstm[0]))\n",
        "# plot training history\n",
        "print(\"Traiing and validation loss\")\n",
        "pyplot.plot(history.history['loss'], label='train CNN')\n",
        "pyplot.plot(history.history['val_loss'], label='test CNN')\n",
        "pyplot.title('model loss')\n",
        "pyplot.ylabel('loss')\n",
        "pyplot.xlabel('epoch')\n",
        "pyplot.legend(['train', 'test'], loc='upper left')\n",
        "pyplot.show()"
      ],
      "execution_count": 0,
      "outputs": [
        {
          "output_type": "stream",
          "text": [
            "Traiing and validation loss\n",
            "Test loss: 0.069\n",
            "Traiing and validation loss\n"
          ],
          "name": "stdout"
        },
        {
          "output_type": "display_data",
          "data": {
            "image/png": "[encoded data removed]",
            "text/plain": [
              "<Figure size 432x288 with 1 Axes>"
            ]
          },
          "metadata": {
            "tags": []
          }
        }
      ]
    },
    {
      "cell_type": "code",
      "metadata": {
        "id": "5u7RmsECuXj2",
        "colab_type": "code",
        "outputId": "4a844280-4ead-4cda-af6d-3ce216f5815f",
        "colab": {
          "base_uri": "https://localhost:8080/",
          "height": 333
        }
      },
      "source": [
        "\n",
        "%matplotlib inline\n",
        "print(\"Traiing and validation accuracy\")\n",
        "print('Test accuracy: %.3f' % ( test_acc_bi_lstm[1]))\n",
        "pyplot.plot(history.history['accuracy'], label='train CNN')\n",
        "pyplot.plot(history.history['val_accuracy'], label='test CNN')\n",
        "pyplot.title('model accuracy')\n",
        "pyplot.ylabel('accuracy')\n",
        "pyplot.xlabel('epoch')\n",
        "pyplot.legend(['train','test'], loc='upper left')\n",
        "pyplot.show()"
      ],
      "execution_count": 0,
      "outputs": [
        {
          "output_type": "stream",
          "text": [
            "Traiing and validation accuracy\n",
            "Test accuracy: 0.983\n"
          ],
          "name": "stdout"
        },
        {
          "output_type": "display_data",
          "data": {
            "image/png": "[encoded data removed]",
            "text/plain": [
              "<Figure size 432x288 with 1 Axes>"
            ]
          },
          "metadata": {
            "tags": []
          }
        }
      ]
    }
  ]
}