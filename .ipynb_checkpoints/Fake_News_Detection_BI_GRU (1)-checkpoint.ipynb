{
 "cells": [
  {
   "cell_type": "markdown",
   "metadata": {},
   "source": [
    "# Fake New Detection with Bi Directional GRU"
   ]
  },
  {
   "cell_type": "code",
   "execution_count": 10,
   "metadata": {
    "colab": {
     "base_uri": "https://localhost:8080/",
     "height": 34
    },
    "colab_type": "code",
    "id": "M_qBAOtMOJVJ",
    "outputId": "771376c4-65ae-4020-b5b9-97a8a70a4b3b"
   },
   "outputs": [
    {
     "name": "stdout",
     "output_type": "stream",
     "text": [
      "Drive already mounted at /content/drive; to attempt to forcibly remount, call drive.mount(\"/content/drive\", force_remount=True).\n"
     ]
    }
   ],
   "source": [
    "from google.colab import drive\n",
    "drive.mount('/content/drive')"
   ]
  },
  {
   "cell_type": "code",
   "execution_count": 11,
   "metadata": {
    "colab": {
     "base_uri": "https://localhost:8080/",
     "height": 242
    },
    "colab_type": "code",
    "id": "fHhudJQHNCQw",
    "outputId": "95c0e912-d290-42d1-e3b4-aa429677bccc"
   },
   "outputs": [
    {
     "name": "stdout",
     "output_type": "stream",
     "text": [
      "['Pants on Fire!' 'TRUE']\n"
     ]
    },
    {
     "data": {
      "text/html": [
       "<div>\n",
       "<style scoped>\n",
       "    .dataframe tbody tr th:only-of-type {\n",
       "        vertical-align: middle;\n",
       "    }\n",
       "\n",
       "    .dataframe tbody tr th {\n",
       "        vertical-align: top;\n",
       "    }\n",
       "\n",
       "    .dataframe thead th {\n",
       "        text-align: right;\n",
       "    }\n",
       "</style>\n",
       "<table border=\"1\" class=\"dataframe\">\n",
       "  <thead>\n",
       "    <tr style=\"text-align: right;\">\n",
       "      <th></th>\n",
       "      <th>Title</th>\n",
       "      <th>Date</th>\n",
       "      <th>Author</th>\n",
       "      <th>Article</th>\n",
       "      <th>Labels</th>\n",
       "    </tr>\n",
       "    <tr>\n",
       "      <th>idx</th>\n",
       "      <th></th>\n",
       "      <th></th>\n",
       "      <th></th>\n",
       "      <th></th>\n",
       "      <th></th>\n",
       "    </tr>\n",
       "  </thead>\n",
       "  <tbody>\n",
       "    <tr>\n",
       "      <th>0</th>\n",
       "      <td>no  bill cosby wasn t framed for sexual assaul...</td>\n",
       "      <td>on Monday, November 4th, 2019 at 2:31 p.m.</td>\n",
       "      <td>samantha putterman</td>\n",
       "      <td>actor and comedian bill cosby  was convicted...</td>\n",
       "      <td>0</td>\n",
       "    </tr>\n",
       "    <tr>\n",
       "      <th>3</th>\n",
       "      <td>kamala harris didn t say democrats are  coming...</td>\n",
       "      <td>on Monday, November 4th, 2019 at 1:03 p.m.</td>\n",
       "      <td>daniel funke</td>\n",
       "      <td>a quote from sen  kamala harris attacking su...</td>\n",
       "      <td>0</td>\n",
       "    </tr>\n",
       "    <tr>\n",
       "      <th>10</th>\n",
       "      <td>no evidence that cream of tartar and orange ju...</td>\n",
       "      <td>on Wednesday, October 30th, 2019 at 2:03 p.m.</td>\n",
       "      <td>samantha putterman</td>\n",
       "      <td>quitting smoking is hard  over the years  ex...</td>\n",
       "      <td>0</td>\n",
       "    </tr>\n",
       "    <tr>\n",
       "      <th>11</th>\n",
       "      <td>cnn did not call abu bakr al baghdadi an  unar...</td>\n",
       "      <td>on Wednesday, October 30th, 2019 at 1:07 p.m.</td>\n",
       "      <td>daniel funke</td>\n",
       "      <td>a viral photo of a cnn chyron makes it look ...</td>\n",
       "      <td>0</td>\n",
       "    </tr>\n",
       "    <tr>\n",
       "      <th>14</th>\n",
       "      <td>fact check  does california really have   NUM ...</td>\n",
       "      <td>on Thursday, October 31st, 2019 at 11:41 a.m.</td>\n",
       "      <td>chris nichols</td>\n",
       "      <td>california s homeless crisis now ranks as on...</td>\n",
       "      <td>1</td>\n",
       "    </tr>\n",
       "  </tbody>\n",
       "</table>\n",
       "</div>"
      ],
      "text/plain": [
       "                                                 Title  ... Labels\n",
       "idx                                                     ...       \n",
       "0    no  bill cosby wasn t framed for sexual assaul...  ...      0\n",
       "3    kamala harris didn t say democrats are  coming...  ...      0\n",
       "10   no evidence that cream of tartar and orange ju...  ...      0\n",
       "11   cnn did not call abu bakr al baghdadi an  unar...  ...      0\n",
       "14   fact check  does california really have   NUM ...  ...      1\n",
       "\n",
       "[5 rows x 5 columns]"
      ]
     },
     "execution_count": 11,
     "metadata": {
      "tags": []
     },
     "output_type": "execute_result"
    }
   ],
   "source": [
    "from sklearn.preprocessing import LabelEncoder\n",
    "import pandas as pd\n",
    "import re\n",
    "#dataset_path = '/content/drive/Computers/My Laptop/Nile University/Informatics Program/Semster Sep - Dec 2019/Courses/Natural Language Processing/Draft for Research Project/Fake New Detection/github 28-11-2019/Poltifact_dataset.csv'\n",
    "dataset_path = '/content/drive/My Drive/Poltifact_dataset.csv'\n",
    "def Preprocess_text(data):\n",
    "    data['Title'] = data['Title'].apply(lambda x: re.sub(r'[^a-zA-Z0-9 ]',r' ',x))\n",
    "    data['Title'] = data['Title'].apply(lambda x: x.lower())\n",
    "    data['Title'] = data['Title'].apply(lambda x: re.sub(r'[0-9]+',r' NUM ',x))\n",
    "    data['Article'] = data['Article'].apply(lambda x: re.sub(r'[^a-zA-Z0-9 ]',r' ',x))\n",
    "    data['Article'] = data['Article'].apply(lambda x: x.lower())\n",
    "    data['Article'] = data['Article'].apply(lambda x: re.sub(r'[0-9]+',r' NUM ',x))\n",
    "    data['Author'] = data['Author'].apply(lambda x: re.sub(r'[^a-zA-Z0-9 ]',r' ',x))\n",
    "    data['Author'] = data['Author'].apply(lambda x: x.lower())\n",
    "    data['Author'] = data['Author'].apply(lambda x: re.sub(r'[0-9]+',r' NUM ',x))\n",
    "    return data\n",
    "\n",
    "labelencoder = LabelEncoder()\n",
    "#df = pd.read_csv(dataset_path ,sep=',',index_col='idx')\n",
    "df = pd.read_csv(dataset_path, sep=',',index_col='idx')   #for 6 labels\n",
    "df = df.loc[(df.Labels=='Pants on Fire!') | (df.Labels=='TRUE')] # for two labels\n",
    "df = Preprocess_text(df)\n",
    "#df['Image'] = labelencoder.inverse_transform(df['Image'])\n",
    "df['Labels'] = labelencoder.fit_transform(df['Labels'])\n",
    "print(labelencoder.classes_)\n",
    "df.head()"
   ]
  },
  {
   "cell_type": "code",
   "execution_count": 12,
   "metadata": {
    "colab": {
     "base_uri": "https://localhost:8080/",
     "height": 242
    },
    "colab_type": "code",
    "id": "86pndwlxOH-k",
    "outputId": "4007a2e0-361f-4b60-be88-8ad2b7897400"
   },
   "outputs": [
    {
     "name": "stdout",
     "output_type": "stream",
     "text": [
      "kamala harris didn t say democrats are  coming for  trump supporters in  NUM \n"
     ]
    },
    {
     "data": {
      "text/html": [
       "<div>\n",
       "<style scoped>\n",
       "    .dataframe tbody tr th:only-of-type {\n",
       "        vertical-align: middle;\n",
       "    }\n",
       "\n",
       "    .dataframe tbody tr th {\n",
       "        vertical-align: top;\n",
       "    }\n",
       "\n",
       "    .dataframe thead th {\n",
       "        text-align: right;\n",
       "    }\n",
       "</style>\n",
       "<table border=\"1\" class=\"dataframe\">\n",
       "  <thead>\n",
       "    <tr style=\"text-align: right;\">\n",
       "      <th></th>\n",
       "      <th>Author</th>\n",
       "      <th>Title</th>\n",
       "      <th>Article</th>\n",
       "    </tr>\n",
       "    <tr>\n",
       "      <th>idx</th>\n",
       "      <th></th>\n",
       "      <th></th>\n",
       "      <th></th>\n",
       "    </tr>\n",
       "  </thead>\n",
       "  <tbody>\n",
       "    <tr>\n",
       "      <th>0</th>\n",
       "      <td>samantha putterman</td>\n",
       "      <td>no  bill cosby wasn t framed for sexual assaul...</td>\n",
       "      <td>actor and comedian bill cosby  was convicted...</td>\n",
       "    </tr>\n",
       "    <tr>\n",
       "      <th>3</th>\n",
       "      <td>daniel funke</td>\n",
       "      <td>kamala harris didn t say democrats are  coming...</td>\n",
       "      <td>a quote from sen  kamala harris attacking su...</td>\n",
       "    </tr>\n",
       "    <tr>\n",
       "      <th>10</th>\n",
       "      <td>samantha putterman</td>\n",
       "      <td>no evidence that cream of tartar and orange ju...</td>\n",
       "      <td>quitting smoking is hard  over the years  ex...</td>\n",
       "    </tr>\n",
       "    <tr>\n",
       "      <th>11</th>\n",
       "      <td>daniel funke</td>\n",
       "      <td>cnn did not call abu bakr al baghdadi an  unar...</td>\n",
       "      <td>a viral photo of a cnn chyron makes it look ...</td>\n",
       "    </tr>\n",
       "    <tr>\n",
       "      <th>14</th>\n",
       "      <td>chris nichols</td>\n",
       "      <td>fact check  does california really have   NUM ...</td>\n",
       "      <td>california s homeless crisis now ranks as on...</td>\n",
       "    </tr>\n",
       "  </tbody>\n",
       "</table>\n",
       "</div>"
      ],
      "text/plain": [
       "                 Author  ...                                            Article\n",
       "idx                      ...                                                   \n",
       "0    samantha putterman  ...    actor and comedian bill cosby  was convicted...\n",
       "3          daniel funke  ...    a quote from sen  kamala harris attacking su...\n",
       "10   samantha putterman  ...    quitting smoking is hard  over the years  ex...\n",
       "11         daniel funke  ...    a viral photo of a cnn chyron makes it look ...\n",
       "14        chris nichols  ...    california s homeless crisis now ranks as on...\n",
       "\n",
       "[5 rows x 3 columns]"
      ]
     },
     "execution_count": 12,
     "metadata": {
      "tags": []
     },
     "output_type": "execute_result"
    }
   ],
   "source": [
    "train_all = df[['Author','Title','Article']]\n",
    "target_all = df['Labels']\n",
    "column = df['Title']\n",
    "print(column[3])\n",
    "train_all.head()"
   ]
  },
  {
   "cell_type": "code",
   "execution_count": 13,
   "metadata": {
    "colab": {
     "base_uri": "https://localhost:8080/",
     "height": 168
    },
    "colab_type": "code",
    "id": "y-weJ5VbOH-n",
    "outputId": "6a0bcfba-746b-4fea-fb84-4c91fcb110a5"
   },
   "outputs": [
    {
     "name": "stdout",
     "output_type": "stream",
     "text": [
      "(3328, 3229)\n",
      "(3328, 31)\n",
      "(3328, 4)\n",
      "(832, 3229)\n",
      "(832, 31)\n",
      "(832, 4)\n",
      "Found 42697 unique words.\n",
      "Found 7582 unique words.\n",
      "Found 479 unique words.\n"
     ]
    }
   ],
   "source": [
    "%tensorflow_version 2.x\n",
    "from tensorflow.python.keras.preprocessing.text import Tokenizer\n",
    "from tensorflow.python.keras.preprocessing.sequence import pad_sequences\n",
    "from sklearn.model_selection import train_test_split\n",
    "\n",
    "\n",
    "max_length = max([len(s.split()) for s in train_all['Article']])\n",
    "max_length2 = max([len(s.split()) for s in train_all['Title']])\n",
    "max_length3 = max([len(s.split()) for s in train_all['Author']])\n",
    "x_train, x_test, y_train, y_test = train_test_split(train_all,target_all, test_size=0.2, random_state=42)\n",
    "tokenizer = Tokenizer()\n",
    "tokenizer2 = Tokenizer()\n",
    "tokenizer3 = Tokenizer()\n",
    "tokenizer.fit_on_texts(list(train_all['Article']))\n",
    "x_train_Article_tokens = tokenizer.texts_to_sequences(list(x_train['Article']))\n",
    "x_test_Article_tokens = tokenizer.texts_to_sequences(list(x_test['Article']))\n",
    "x_train_Article_pad = pad_sequences(x_train_Article_tokens,maxlen=max_length,padding='post')\n",
    "x_test_Article_pad = pad_sequences(x_test_Article_tokens,maxlen=max_length,padding='post')\n",
    "\n",
    "unique_words = len(tokenizer.word_index)\n",
    "\n",
    "tokenizer2.fit_on_texts(train_all['Title'])\n",
    "x_train_Title_tokens = tokenizer2.texts_to_sequences(x_train['Title'])\n",
    "x_test_Title_tokens = tokenizer2.texts_to_sequences(x_test['Title'])\n",
    "x_train_Title_pad = pad_sequences(x_train_Title_tokens,maxlen=max_length2,padding='post')\n",
    "x_test_Title_pad = pad_sequences(x_test_Title_tokens,maxlen=max_length2,padding='post')\n",
    "\n",
    "unique_words = len(tokenizer.word_index)+1\n",
    "\n",
    "tokenizer3.fit_on_texts(train_all['Author'])\n",
    "x_train_Author_tokens = tokenizer3.texts_to_sequences(x_train['Author'])\n",
    "x_test_Author_tokens = tokenizer3.texts_to_sequences(x_test['Author'])\n",
    "x_train_Author_pad = pad_sequences(x_train_Author_tokens,maxlen=max_length3,padding='post')\n",
    "x_test_Author_pad = pad_sequences(x_test_Author_tokens,maxlen=max_length3,padding='post')\n",
    "\n",
    "unique_words = len(tokenizer.word_index)+1\n",
    "\n",
    "print(x_train_Article_pad.shape)\n",
    "print(x_train_Title_pad.shape)\n",
    "print(x_train_Author_pad.shape)\n",
    "print(x_test_Article_pad.shape)\n",
    "print(x_test_Title_pad.shape)\n",
    "print(x_test_Author_pad.shape)\n",
    "print('Found %d unique words.' % len(tokenizer.word_index))\n",
    "print('Found %d unique words.' % len(tokenizer2.word_index))\n",
    "print('Found %d unique words.' % len(tokenizer3.word_index))"
   ]
  },
  {
   "cell_type": "code",
   "execution_count": 14,
   "metadata": {
    "colab": {
     "base_uri": "https://localhost:8080/",
     "height": 34
    },
    "colab_type": "code",
    "id": "6aqwYLMmOH-q",
    "outputId": "0953bf67-f234-43a7-8a3f-a5e5752c7d73"
   },
   "outputs": [
    {
     "name": "stdout",
     "output_type": "stream",
     "text": [
      "Found 400000 word vectors.\n"
     ]
    }
   ],
   "source": [
    "import os\n",
    "import numpy as np\n",
    "embeddings_index = {}\n",
    "#GLOVE_DIR = 'glove.6B/'\n",
    "f = open('/content/drive/My Drive/glove.6B.50d.txt',encoding=\"utf8\")\n",
    "for line in f:\n",
    "    values = line.split()\n",
    "    word = values[0]\n",
    "    coefs = np.asarray(values[1:], dtype='float32')\n",
    "    embeddings_index[word] = coefs\n",
    "f.close()\n",
    "\n",
    "print('Found %s word vectors.' % len(embeddings_index))"
   ]
  },
  {
   "cell_type": "code",
   "execution_count": 0,
   "metadata": {
    "colab": {},
    "colab_type": "code",
    "id": "RFtPtORnOH-v"
   },
   "outputs": [],
   "source": [
    "\n",
    "word_index = tokenizer.word_index\n",
    "word_index2 = tokenizer2.word_index\n",
    "word_index3 = tokenizer3.word_index\n",
    "embedding_matrix = np.zeros((len(word_index) + 1, 50))\n",
    "for word, i in word_index.items():\n",
    "    embedding_vector = embeddings_index.get(word)\n",
    "    if embedding_vector is not None:\n",
    "        # words not found in embedding index will be all-zeros.\n",
    "        embedding_matrix[i] = embedding_vector\n",
    "embedding_matrix2 = np.zeros((len(word_index2) + 1, 50))\n",
    "for word, i in word_index2.items():\n",
    "    embedding_vector2 = embeddings_index.get(word)\n",
    "    if embedding_vector2 is not None:\n",
    "        # words not found in embedding index will be all-zeros.\n",
    "        embedding_matrix2[i] = embedding_vector2\n",
    "embedding_matrix3 = np.zeros((len(word_index3) + 1, 50))\n",
    "for word, i in word_index3.items():\n",
    "    embedding_vector3 = embeddings_index.get(word)\n",
    "    if embedding_vector3 is not None:\n",
    "        # words not found in embedding index will be all-zeros.\n",
    "        embedding_matrix3[i] = embedding_vector3"
   ]
  },
  {
   "cell_type": "code",
   "execution_count": 18,
   "metadata": {
    "colab": {
     "base_uri": "https://localhost:8080/",
     "height": 924
    },
    "colab_type": "code",
    "id": "HYyRt6H4OH-z",
    "outputId": "127b8738-1095-4a37-e1ad-48454fdf2c50"
   },
   "outputs": [
    {
     "name": "stdout",
     "output_type": "stream",
     "text": [
      "Model: \"model\"\n",
      "__________________________________________________________________________________________________\n",
      "Layer (type)                    Output Shape         Param #     Connected to                     \n",
      "==================================================================================================\n",
      "input_1 (InputLayer)            [(None, 3229)]       0                                            \n",
      "__________________________________________________________________________________________________\n",
      "input_2 (InputLayer)            [(None, 31)]         0                                            \n",
      "__________________________________________________________________________________________________\n",
      "input_3 (InputLayer)            [(None, 4)]          0                                            \n",
      "__________________________________________________________________________________________________\n",
      "Article (Embedding)             (None, 3229, 50)     2134900     input_1[0][0]                    \n",
      "__________________________________________________________________________________________________\n",
      "Title (Embedding)               (None, 31, 50)       379150      input_2[0][0]                    \n",
      "__________________________________________________________________________________________________\n",
      "Author (Embedding)              (None, 4, 50)        24000       input_3[0][0]                    \n",
      "__________________________________________________________________________________________________\n",
      "bidirectional (Bidirectional)   (None, 462)          392238      Article[0][0]                    \n",
      "__________________________________________________________________________________________________\n",
      "bidirectional_1 (Bidirectional) (None, 92)           27048       Title[0][0]                      \n",
      "__________________________________________________________________________________________________\n",
      "bidirectional_2 (Bidirectional) (None, 20)           3720        Author[0][0]                     \n",
      "__________________________________________________________________________________________________\n",
      "dense (Dense)                   (None, 200)          92600       bidirectional[0][0]              \n",
      "__________________________________________________________________________________________________\n",
      "dense_1 (Dense)                 (None, 50)           4650        bidirectional_1[0][0]            \n",
      "__________________________________________________________________________________________________\n",
      "dense_2 (Dense)                 (None, 20)           420         bidirectional_2[0][0]            \n",
      "__________________________________________________________________________________________________\n",
      "concatenate (Concatenate)       (None, 270)          0           dense[0][0]                      \n",
      "                                                                 dense_1[0][0]                    \n",
      "                                                                 dense_2[0][0]                    \n",
      "__________________________________________________________________________________________________\n",
      "dropout (Dropout)               (None, 270)          0           concatenate[0][0]                \n",
      "__________________________________________________________________________________________________\n",
      "dense_3 (Dense)                 (None, 200)          54200       dropout[0][0]                    \n",
      "__________________________________________________________________________________________________\n",
      "batch_normalization (BatchNorma (None, 200)          800         dense_3[0][0]                    \n",
      "__________________________________________________________________________________________________\n",
      "activation (Activation)         (None, 200)          0           batch_normalization[0][0]        \n",
      "__________________________________________________________________________________________________\n",
      "dense_4 (Dense)                 (None, 50)           10050       activation[0][0]                 \n",
      "__________________________________________________________________________________________________\n",
      "batch_normalization_1 (BatchNor (None, 50)           200         dense_4[0][0]                    \n",
      "__________________________________________________________________________________________________\n",
      "activation_1 (Activation)       (None, 50)           0           batch_normalization_1[0][0]      \n",
      "__________________________________________________________________________________________________\n",
      "dropout_1 (Dropout)             (None, 50)           0           activation_1[0][0]               \n",
      "__________________________________________________________________________________________________\n",
      "dense_5 (Dense)                 (None, 2)            102         dropout_1[0][0]                  \n",
      "==================================================================================================\n",
      "Total params: 3,124,078\n",
      "Trainable params: 585,528\n",
      "Non-trainable params: 2,538,550\n",
      "__________________________________________________________________________________________________\n"
     ]
    }
   ],
   "source": [
    "import tensorflow as tf\n",
    "from tensorflow import keras\n",
    "from tensorflow.keras.layers import SimpleRNN, Dense, Dropout, Embedding, BatchNormalization, Activation,Concatenate,Input,LSTM,Bidirectional, GRU\n",
    "\n",
    "#y_train = y_train.to_numpy()\n",
    "keras.backend.clear_session()\n",
    "np.random.seed(42)\n",
    "tf.random.set_seed(42)\n",
    "#with tf.device('/cpu:0'):\n",
    "#model = keras.models.Sequential()\n",
    "inputAr = Input(shape=max_length)\n",
    "input_Article = Embedding(len(word_index) + 1,50,weights=[embedding_matrix],\n",
    "                          trainable=False,name='Article')(inputAr)\n",
    "#hidden1 = LSTM(100,return_sequences=True)(input_Article)\n",
    "#hidden2 = Bidirectional(LSTM(231,dropout=0.1,recurrent_dropout=0.1))(input_Article)\n",
    "hidden2 = Bidirectional(GRU(231, dropout=0.1, recurrent_dropout=0.1))(input_Article)\n",
    "dense3 = Dense(200,kernel_initializer='he_normal')(hidden2)\n",
    "\n",
    "inputT = Input(shape=max_length2)\n",
    "input_Title = Embedding(len(word_index2) + 1,50,weights=[embedding_matrix2],\n",
    "                        trainable=False,name='Title')(inputT)\n",
    "\n",
    "#hidden1_2 = LSTM(20,return_sequences=True)(input_Title)\n",
    "#hidden2_2 = Bidirectional(LSTM(46,dropout=0.1,recurrent_dropout=0.1))(input_Title)\n",
    "hidden2_2 = Bidirectional(GRU(46, dropout=0.1, recurrent_dropout=0.1))(input_Title)\n",
    "dense3_2 = Dense(50,kernel_initializer='he_normal')(hidden2_2)\n",
    "\n",
    "inputAu = Input(shape=max_length3)\n",
    "input_Author = Embedding(len(word_index3) + 1,50,weights=[embedding_matrix3],\n",
    "                          trainable=False,name='Author')(inputAu)\n",
    "\t\t\t\t\t\t  \n",
    "#hidden1_3 = LSTM(5,return_sequences=True)(input_Author)\n",
    "#hidden2_3 = Bidirectional(LSTM(10,dropout=0.1,recurrent_dropout=0.1))(input_Author)\n",
    "hidden2_3 = Bidirectional(GRU(10, dropout=0.1, recurrent_dropout=0.1))(input_Author)\n",
    "dense3_3 = Dense(20,kernel_initializer='he_normal')(hidden2_3)\n",
    "\n",
    "concat = keras.layers.concatenate([dense3,dense3_2,dense3_3])\n",
    "\n",
    "#batch_norm = BatchNormalization()(concat)\n",
    "dropout = Dropout(0.4)(concat)\n",
    "dense = Dense(200,kernel_initializer='he_normal')(dropout)\n",
    "batch_norm2 = BatchNormalization()(dense)\n",
    "activation = Activation('relu')(batch_norm2)\n",
    "dense2 = Dense(50,kernel_initializer='he_normal')(activation)\n",
    "batch_norm3 = BatchNormalization()(dense2)\n",
    "activation2 = Activation('relu')(batch_norm3)\n",
    "dropout2 = Dropout(0.4)(activation2)\n",
    "output = Dense(2, activation='softmax')(dropout2)\n",
    "model = keras.Model(inputs=[inputAr, inputT, inputAu], outputs=[output])\n",
    "model.summary()"
   ]
  },
  {
   "cell_type": "code",
   "execution_count": 19,
   "metadata": {
    "colab": {
     "base_uri": "https://localhost:8080/",
     "height": 706
    },
    "colab_type": "code",
    "id": "dBx_Pvb0OH-5",
    "outputId": "b31a13c9-4313-4c6c-c1f8-1e0a364abe64"
   },
   "outputs": [
    {
     "name": "stdout",
     "output_type": "stream",
     "text": [
      "Train on 2662 samples, validate on 666 samples\n",
      "Epoch 1/20\n",
      "2662/2662 [==============================] - 633s 238ms/sample - loss: 0.7660 - accuracy: 0.5778 - val_loss: 0.5862 - val_accuracy: 0.7057\n",
      "Epoch 2/20\n",
      "2662/2662 [==============================] - 621s 233ms/sample - loss: 0.6433 - accuracy: 0.6612 - val_loss: 0.5328 - val_accuracy: 0.7417\n",
      "Epoch 3/20\n",
      "2662/2662 [==============================] - 620s 233ms/sample - loss: 0.6518 - accuracy: 0.6116 - val_loss: 0.7020 - val_accuracy: 0.4249\n",
      "Epoch 4/20\n",
      "2662/2662 [==============================] - 620s 233ms/sample - loss: 0.6871 - accuracy: 0.5624 - val_loss: 0.6923 - val_accuracy: 0.5751\n",
      "Epoch 5/20\n",
      "2662/2662 [==============================] - 622s 234ms/sample - loss: 0.6865 - accuracy: 0.5624 - val_loss: 0.6882 - val_accuracy: 0.5751\n",
      "Epoch 6/20\n",
      "2662/2662 [==============================] - 617s 232ms/sample - loss: 0.6861 - accuracy: 0.5624 - val_loss: 0.6860 - val_accuracy: 0.5751\n",
      "Epoch 7/20\n",
      "2662/2662 [==============================] - 625s 235ms/sample - loss: 0.6854 - accuracy: 0.5624 - val_loss: 0.6841 - val_accuracy: 0.5751\n",
      "Epoch 8/20\n",
      "2662/2662 [==============================] - 621s 233ms/sample - loss: 0.6856 - accuracy: 0.5624 - val_loss: 0.6833 - val_accuracy: 0.5751\n",
      "Epoch 9/20\n",
      "2662/2662 [==============================] - 617s 232ms/sample - loss: 0.6854 - accuracy: 0.5624 - val_loss: 0.6828 - val_accuracy: 0.5751\n",
      "Epoch 10/20\n",
      "2662/2662 [==============================] - 617s 232ms/sample - loss: 0.6857 - accuracy: 0.5624 - val_loss: 0.6827 - val_accuracy: 0.5751\n",
      "Epoch 11/20\n",
      "2662/2662 [==============================] - 617s 232ms/sample - loss: 0.6854 - accuracy: 0.5624 - val_loss: 0.6824 - val_accuracy: 0.5751\n",
      "Epoch 12/20\n",
      "2662/2662 [==============================] - 621s 233ms/sample - loss: 0.6852 - accuracy: 0.5624 - val_loss: 0.6825 - val_accuracy: 0.5751\n",
      "Epoch 13/20\n",
      "2662/2662 [==============================] - 616s 232ms/sample - loss: 0.6854 - accuracy: 0.5624 - val_loss: 0.6822 - val_accuracy: 0.5751\n",
      "Epoch 14/20\n",
      "2662/2662 [==============================] - 616s 231ms/sample - loss: 0.6854 - accuracy: 0.5624 - val_loss: 0.6820 - val_accuracy: 0.5751\n",
      "Epoch 15/20\n",
      "2662/2662 [==============================] - 615s 231ms/sample - loss: 0.6853 - accuracy: 0.5624 - val_loss: 0.6820 - val_accuracy: 0.5751\n",
      "Epoch 16/20\n",
      "2662/2662 [==============================] - 614s 231ms/sample - loss: 0.6851 - accuracy: 0.5624 - val_loss: 0.6819 - val_accuracy: 0.5751\n",
      "Epoch 17/20\n",
      "2662/2662 [==============================] - 619s 233ms/sample - loss: 0.6855 - accuracy: 0.5624 - val_loss: 0.6819 - val_accuracy: 0.5751\n",
      "Epoch 18/20\n",
      "2662/2662 [==============================] - 622s 234ms/sample - loss: 0.6857 - accuracy: 0.5624 - val_loss: 0.6819 - val_accuracy: 0.5751\n",
      "Epoch 19/20\n",
      "2662/2662 [==============================] - 624s 234ms/sample - loss: 0.6856 - accuracy: 0.5624 - val_loss: 0.6820 - val_accuracy: 0.5751\n",
      "Epoch 20/20\n",
      "2662/2662 [==============================] - 622s 234ms/sample - loss: 0.6856 - accuracy: 0.5624 - val_loss: 0.6820 - val_accuracy: 0.5751\n"
     ]
    }
   ],
   "source": [
    "import numpy as np\n",
    "import time\n",
    "\n",
    "y_train = np.array(y_train)\n",
    "y_test = np.array(y_test)\n",
    "\n",
    "start_time_bi_GRU = time.time()\n",
    "model.compile(loss='sparse_categorical_crossentropy',optimizer='adam',metrics=['accuracy'])\n",
    "history = model.fit((x_train_Article_pad, x_train_Title_pad, x_train_Author_pad), y_train, epochs=20,validation_split=0.2,batch_size=64)\n",
    "end_time_bi_GRU = time.time()"
   ]
  },
  {
   "cell_type": "code",
   "execution_count": 23,
   "metadata": {
    "colab": {
     "base_uri": "https://localhost:8080/",
     "height": 50
    },
    "colab_type": "code",
    "id": "3oo2LdZ94xMD",
    "outputId": "23afbeac-b92c-4acf-d0a7-07c9c26d2514"
   },
   "outputs": [
    {
     "name": "stdout",
     "output_type": "stream",
     "text": [
      "Time elapsed for training GRU Bidirectional model  0.0 hours\n",
      "0.0\n"
     ]
    }
   ],
   "source": [
    "end_time_bi_GRU = round(end_time_bi_GRU / (60 * 60 ) , 2)\n",
    "start_time_bi_GRU = round(start_time_bi_GRU / (60 * 60 ), 2)\n",
    "print(\"Time elapsed for training GRU Bidirectional model \", end_time_bi_GRU - start_time_bi_GRU, \"hours\")"
   ]
  },
  {
   "cell_type": "code",
   "execution_count": 24,
   "metadata": {
    "colab": {
     "base_uri": "https://localhost:8080/",
     "height": 329
    },
    "colab_type": "code",
    "id": "iK-6eMe3OH-9",
    "outputId": "4eec150e-383a-4505-b2d9-962d062b994b"
   },
   "outputs": [
    {
     "name": "stdout",
     "output_type": "stream",
     "text": [
      "Traiing and validation loss\n",
      "Test Loss: 0.689\n"
     ]
    },
    {
     "data": {
      "image/png": "[encoded data removed]",
      "text/plain": [
       "<Figure size 432x288 with 1 Axes>"
      ]
     },
     "metadata": {
      "tags": []
     },
     "output_type": "display_data"
    }
   ],
   "source": [
    "%matplotlib inline\n",
    "from matplotlib import pyplot\n",
    "test_acc_bi_gru = model.evaluate((x_test_Article_pad, x_test_Title_pad, x_test_Author_pad), y_test, verbose=0)\n",
    "print(\"Traiing and validation loss\")\n",
    "print('Test Loss: %.3f' % (test_acc_bi_gru[0]))\n",
    "# plot training history\n",
    "pyplot.plot(history.history['loss'], label='train GRU')\n",
    "pyplot.plot(history.history['val_loss'], label='test GRU')\n",
    "pyplot.title('model loss')\n",
    "pyplot.ylabel('loss')\n",
    "pyplot.xlabel('epoch')\n",
    "pyplot.legend(['train', 'test'], loc='upper left')\n",
    "pyplot.show()\n"
   ]
  },
  {
   "cell_type": "code",
   "execution_count": 25,
   "metadata": {
    "colab": {
     "base_uri": "https://localhost:8080/",
     "height": 329
    },
    "colab_type": "code",
    "id": "7Zw1ImGneW3-",
    "outputId": "d92e0f5d-f920-4d21-93c5-b01a4f51d4c5"
   },
   "outputs": [
    {
     "name": "stdout",
     "output_type": "stream",
     "text": [
      "Traiing and validation accuracy\n",
      "Test accuracy: 0.547\n"
     ]
    },
    {
     "data": {
      "image/png": "[encoded data removed]",
      "text/plain": [
       "<Figure size 432x288 with 1 Axes>"
      ]
     },
     "metadata": {
      "tags": []
     },
     "output_type": "display_data"
    }
   ],
   "source": [
    "\n",
    "%matplotlib inline\n",
    "print(\"Traiing and validation accuracy\")\n",
    "print('Test accuracy: %.3f' % (test_acc_bi_gru[1]))\n",
    "pyplot.plot(history.history['accuracy'], label='train GRU')\n",
    "pyplot.plot(history.history['val_accuracy'], label='test GRU')\n",
    "pyplot.title('model accuracy')\n",
    "pyplot.ylabel('accuracy')\n",
    "pyplot.xlabel('epoch')\n",
    "pyplot.legend(['train', 'test'], loc='upper left')\n",
    "pyplot.show()\n"
   ]
  }
 ],
 "metadata": {
  "accelerator": "GPU",
  "colab": {
   "name": "Fake_News_Detection_GRU.ipynb",
   "provenance": []
  },
  "kernelspec": {
   "display_name": "Python 3",
   "language": "python",
   "name": "python3"
  },
  "language_info": {
   "codemirror_mode": {
    "name": "ipython",
    "version": 3
   },
   "file_extension": ".py",
   "mimetype": "text/x-python",
   "name": "python",
   "nbconvert_exporter": "python",
   "pygments_lexer": "ipython3",
   "version": "3.7.4"
  }
 },
 "nbformat": 4,
 "nbformat_minor": 1
}
