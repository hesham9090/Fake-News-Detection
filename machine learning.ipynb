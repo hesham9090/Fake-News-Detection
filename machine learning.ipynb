{
 "cells": [
  {
   "cell_type": "markdown",
   "metadata": {},
   "source": [
    "# machine learning \n",
    "to refer to creating and using models that are learned from data. In other contexts this might be called predictive modeling or data mining, but we will stick with machine learning. Typically, our goal will be to use existing data to develop models that we can use to predict various outcomes for new data, such as:\n",
    "\n",
    "• Whether an email message is spam or not\n",
    "\n",
    "• Whether a credit card transaction is fraudulent\n",
    "\n",
    "• Which advertisement a shopper is most likely to click on\n",
    "\n",
    "• Which football team is going to win the Super Bowl\n",
    "We’ll look at both supervised models (in which there is a set of data labeled with the correct answers to learn from) and unsupervised models (in which there are no such labels). There are various other types, like semisupervised (in which only some of the data are labeled), online (in which the model needs to continuously adjust to newly arriving data), and reinforcement (in which, after making a series of predictions, the model gets a signal indicating how well it did) that we won’t cover in this book.\n",
    "Now, in even the simplest situation there are entire universes of models that might describe the relationship we’re interested in. In most cases we will ourselves choose a parameterized family of models and then use data to learn parameters that are in some way optimal."
   ]
  },
  {
   "cell_type": "code",
   "execution_count": null,
   "metadata": {},
   "outputs": [],
   "source": []
  }
 ],
 "metadata": {
  "kernelspec": {
   "display_name": "Python 3",
   "language": "python",
   "name": "python3"
  },
  "language_info": {
   "codemirror_mode": {
    "name": "ipython",
    "version": 3
   },
   "file_extension": ".py",
   "mimetype": "text/x-python",
   "name": "python",
   "nbconvert_exporter": "python",
   "pygments_lexer": "ipython3",
   "version": "3.7.4"
  }
 },
 "nbformat": 4,
 "nbformat_minor": 2
}
