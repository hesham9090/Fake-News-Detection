{
  "nbformat": 4,
  "nbformat_minor": 0,
  "metadata": {
    "kernelspec": {
      "name": "python3",
      "display_name": "Python 3"
    },
    "colab": {
      "name": "Politifact_CNN.ipynb",
      "provenance": [],
      "collapsed_sections": []
    },
    "accelerator": "GPU"
  },
  "cells": [
    {
      "cell_type": "code",
      "metadata": {
        "id": "FfktFh9oLx19",
        "colab_type": "code",
        "outputId": "de8e8283-0a45-43e3-a329-3218ce4247db",
        "colab": {
          "base_uri": "https://localhost:8080/",
          "height": 133
        }
      },
      "source": [
        "from google.colab import drive\n",
        "drive.mount('/content/drive')"
      ],
      "execution_count": 1,
      "outputs": [
        {
          "output_type": "stream",
          "text": [
            "Go to this URL in a browser: https://accounts.google.com/o/oauth2/auth?client_id=947318989803-6bn6qk8qdgf4n4g3pfee6491hc0brc4i.apps.googleusercontent.com&redirect_uri=urn%3aietf%3awg%3aoauth%3a2.0%3aoob&response_type=code&scope=email%20https%3a%2f%2fwww.googleapis.com%2fauth%2fdocs.test%20https%3a%2f%2fwww.googleapis.com%2fauth%2fdrive%20https%3a%2f%2fwww.googleapis.com%2fauth%2fdrive.photos.readonly%20https%3a%2f%2fwww.googleapis.com%2fauth%2fpeopleapi.readonly\n",
            "\n",
            "Enter your authorization code:\n",
            "··········\n",
            "Mounted at /content/drive\n"
          ],
          "name": "stdout"
        }
      ]
    },
    {
      "cell_type": "code",
      "metadata": {
        "id": "HZZFV8KoQbL8",
        "colab_type": "code",
        "colab": {}
      },
      "source": [
        "from nltk.tokenize import word_tokenize\n",
        "from sklearn.preprocessing import LabelEncoder\n",
        "import pandas as pd\n",
        "import re\n"
      ],
      "execution_count": 0,
      "outputs": []
    },
    {
      "cell_type": "code",
      "metadata": {
        "id": "MkbAhdeZXX3f",
        "colab_type": "code",
        "colab": {}
      },
      "source": [
        "def Preprocess_text(data):\n",
        "    data['Title'] = data['Title'].apply(lambda x: re.sub(r'[^a-zA-Z0-9 ]',r' ',x))\n",
        "    data['Title'] = data['Title'].apply(lambda x: x.lower())\n",
        "    data['Title'] = data['Title'].apply(lambda x: re.sub(r'[0-9]+',r' NUM ',x))\n",
        "    data['Article'] = data['Article'].apply(lambda x: re.sub(r'[^a-zA-Z0-9 ]',r' ',x))\n",
        "    data['Article'] = data['Article'].apply(lambda x: x.lower())\n",
        "    data['Article'] = data['Article'].apply(lambda x: re.sub(r'[0-9]+',r' NUM ',x))\n",
        "    data['Author'] = data['Author'].apply(lambda x: re.sub(r'[^a-zA-Z0-9 ]',r' ',x))\n",
        "    data['Author'] = data['Author'].apply(lambda x: x.lower())\n",
        "    data['Author'] = data['Author'].apply(lambda x: re.sub(r'[0-9]+',r' NUM ',x))\n",
        "    return data"
      ],
      "execution_count": 0,
      "outputs": []
    },
    {
      "cell_type": "code",
      "metadata": {
        "id": "n2-Xq2gyLq2I",
        "colab_type": "code",
        "outputId": "d90b1654-8a11-4cf3-c1b4-2b9a25633a93",
        "colab": {
          "base_uri": "https://localhost:8080/",
          "height": 334
        }
      },
      "source": [
        "df = pd.read_csv('/content/drive/My Drive/Fake-News-Detection/dataset/Poltifact_dataset.csv',sep=',',index_col='idx')\n",
        "df = df.loc[(df.Labels=='Pants on Fire!') | (df.Labels=='TRUE')] # for two labels\n",
        "df = Preprocess_text(df)\n",
        "\n",
        "labelencoder = LabelEncoder()\n",
        "#df['Image'] = labelencoder.inverse_transform(df['Image'])\n",
        "df['Labels'] = labelencoder.fit_transform(df['Labels'])\n",
        "print(labelencoder.classes_)\n",
        "df.head()"
      ],
      "execution_count": 4,
      "outputs": [
        {
          "output_type": "stream",
          "text": [
            "['Pants on Fire!' 'TRUE']\n"
          ],
          "name": "stdout"
        },
        {
          "output_type": "execute_result",
          "data": {
            "text/html": [
              "<div>\n",
              "<style scoped>\n",
              "    .dataframe tbody tr th:only-of-type {\n",
              "        vertical-align: middle;\n",
              "    }\n",
              "\n",
              "    .dataframe tbody tr th {\n",
              "        vertical-align: top;\n",
              "    }\n",
              "\n",
              "    .dataframe thead th {\n",
              "        text-align: right;\n",
              "    }\n",
              "</style>\n",
              "<table border=\"1\" class=\"dataframe\">\n",
              "  <thead>\n",
              "    <tr style=\"text-align: right;\">\n",
              "      <th></th>\n",
              "      <th>Title</th>\n",
              "      <th>Date</th>\n",
              "      <th>Author</th>\n",
              "      <th>Article</th>\n",
              "      <th>Labels</th>\n",
              "    </tr>\n",
              "    <tr>\n",
              "      <th>idx</th>\n",
              "      <th></th>\n",
              "      <th></th>\n",
              "      <th></th>\n",
              "      <th></th>\n",
              "      <th></th>\n",
              "    </tr>\n",
              "  </thead>\n",
              "  <tbody>\n",
              "    <tr>\n",
              "      <th>0</th>\n",
              "      <td>no  bill cosby wasn t framed for sexual assaul...</td>\n",
              "      <td>on Monday, November 4th, 2019 at 2:31 p.m.</td>\n",
              "      <td>samantha putterman</td>\n",
              "      <td>actor and comedian bill cosby  was convicted...</td>\n",
              "      <td>0</td>\n",
              "    </tr>\n",
              "    <tr>\n",
              "      <th>3</th>\n",
              "      <td>kamala harris didn t say democrats are  coming...</td>\n",
              "      <td>on Monday, November 4th, 2019 at 1:03 p.m.</td>\n",
              "      <td>daniel funke</td>\n",
              "      <td>a quote from sen  kamala harris attacking su...</td>\n",
              "      <td>0</td>\n",
              "    </tr>\n",
              "    <tr>\n",
              "      <th>10</th>\n",
              "      <td>no evidence that cream of tartar and orange ju...</td>\n",
              "      <td>on Wednesday, October 30th, 2019 at 2:03 p.m.</td>\n",
              "      <td>samantha putterman</td>\n",
              "      <td>quitting smoking is hard  over the years  ex...</td>\n",
              "      <td>0</td>\n",
              "    </tr>\n",
              "    <tr>\n",
              "      <th>11</th>\n",
              "      <td>cnn did not call abu bakr al baghdadi an  unar...</td>\n",
              "      <td>on Wednesday, October 30th, 2019 at 1:07 p.m.</td>\n",
              "      <td>daniel funke</td>\n",
              "      <td>a viral photo of a cnn chyron makes it look ...</td>\n",
              "      <td>0</td>\n",
              "    </tr>\n",
              "    <tr>\n",
              "      <th>14</th>\n",
              "      <td>fact check  does california really have   NUM ...</td>\n",
              "      <td>on Thursday, October 31st, 2019 at 11:41 a.m.</td>\n",
              "      <td>chris nichols</td>\n",
              "      <td>california s homeless crisis now ranks as on...</td>\n",
              "      <td>1</td>\n",
              "    </tr>\n",
              "  </tbody>\n",
              "</table>\n",
              "</div>"
            ],
            "text/plain": [
              "                                                 Title  ... Labels\n",
              "idx                                                     ...       \n",
              "0    no  bill cosby wasn t framed for sexual assaul...  ...      0\n",
              "3    kamala harris didn t say democrats are  coming...  ...      0\n",
              "10   no evidence that cream of tartar and orange ju...  ...      0\n",
              "11   cnn did not call abu bakr al baghdadi an  unar...  ...      0\n",
              "14   fact check  does california really have   NUM ...  ...      1\n",
              "\n",
              "[5 rows x 5 columns]"
            ]
          },
          "metadata": {
            "tags": []
          },
          "execution_count": 4
        }
      ]
    },
    {
      "cell_type": "code",
      "metadata": {
        "id": "EZp-_pSCLq2R",
        "colab_type": "code",
        "outputId": "fc35c010-62cb-486f-f30e-e29925d09915",
        "colab": {
          "base_uri": "https://localhost:8080/",
          "height": 247
        }
      },
      "source": [
        "train_all = df[['Author','Title','Article']]\n",
        "target_all = df['Labels']\n",
        "column = df['Title']\n",
        "print(column[3])\n",
        "train_all.head()"
      ],
      "execution_count": 5,
      "outputs": [
        {
          "output_type": "stream",
          "text": [
            "kamala harris didn t say democrats are  coming for  trump supporters in  NUM \n"
          ],
          "name": "stdout"
        },
        {
          "output_type": "execute_result",
          "data": {
            "text/html": [
              "<div>\n",
              "<style scoped>\n",
              "    .dataframe tbody tr th:only-of-type {\n",
              "        vertical-align: middle;\n",
              "    }\n",
              "\n",
              "    .dataframe tbody tr th {\n",
              "        vertical-align: top;\n",
              "    }\n",
              "\n",
              "    .dataframe thead th {\n",
              "        text-align: right;\n",
              "    }\n",
              "</style>\n",
              "<table border=\"1\" class=\"dataframe\">\n",
              "  <thead>\n",
              "    <tr style=\"text-align: right;\">\n",
              "      <th></th>\n",
              "      <th>Author</th>\n",
              "      <th>Title</th>\n",
              "      <th>Article</th>\n",
              "    </tr>\n",
              "    <tr>\n",
              "      <th>idx</th>\n",
              "      <th></th>\n",
              "      <th></th>\n",
              "      <th></th>\n",
              "    </tr>\n",
              "  </thead>\n",
              "  <tbody>\n",
              "    <tr>\n",
              "      <th>0</th>\n",
              "      <td>samantha putterman</td>\n",
              "      <td>no  bill cosby wasn t framed for sexual assaul...</td>\n",
              "      <td>actor and comedian bill cosby  was convicted...</td>\n",
              "    </tr>\n",
              "    <tr>\n",
              "      <th>3</th>\n",
              "      <td>daniel funke</td>\n",
              "      <td>kamala harris didn t say democrats are  coming...</td>\n",
              "      <td>a quote from sen  kamala harris attacking su...</td>\n",
              "    </tr>\n",
              "    <tr>\n",
              "      <th>10</th>\n",
              "      <td>samantha putterman</td>\n",
              "      <td>no evidence that cream of tartar and orange ju...</td>\n",
              "      <td>quitting smoking is hard  over the years  ex...</td>\n",
              "    </tr>\n",
              "    <tr>\n",
              "      <th>11</th>\n",
              "      <td>daniel funke</td>\n",
              "      <td>cnn did not call abu bakr al baghdadi an  unar...</td>\n",
              "      <td>a viral photo of a cnn chyron makes it look ...</td>\n",
              "    </tr>\n",
              "    <tr>\n",
              "      <th>14</th>\n",
              "      <td>chris nichols</td>\n",
              "      <td>fact check  does california really have   NUM ...</td>\n",
              "      <td>california s homeless crisis now ranks as on...</td>\n",
              "    </tr>\n",
              "  </tbody>\n",
              "</table>\n",
              "</div>"
            ],
            "text/plain": [
              "                 Author  ...                                            Article\n",
              "idx                      ...                                                   \n",
              "0    samantha putterman  ...    actor and comedian bill cosby  was convicted...\n",
              "3          daniel funke  ...    a quote from sen  kamala harris attacking su...\n",
              "10   samantha putterman  ...    quitting smoking is hard  over the years  ex...\n",
              "11         daniel funke  ...    a viral photo of a cnn chyron makes it look ...\n",
              "14        chris nichols  ...    california s homeless crisis now ranks as on...\n",
              "\n",
              "[5 rows x 3 columns]"
            ]
          },
          "metadata": {
            "tags": []
          },
          "execution_count": 5
        }
      ]
    },
    {
      "cell_type": "code",
      "metadata": {
        "id": "hwZdNSYeLq2V",
        "colab_type": "code",
        "outputId": "73165feb-4ea8-4a47-caf6-55570db5e9e2",
        "colab": {
          "base_uri": "https://localhost:8080/",
          "height": 208
        }
      },
      "source": [
        "%tensorflow_version 2.x\n",
        "from tensorflow.python.keras.preprocessing.text import Tokenizer\n",
        "from tensorflow.python.keras.preprocessing.sequence import pad_sequences\n",
        "from sklearn.model_selection import train_test_split\n",
        "\n",
        "\n",
        "max_length = max([len(s.split()) for s in train_all['Article']])\n",
        "max_length2 = max([len(s.split()) for s in train_all['Title']])\n",
        "max_length3 = max([len(s.split()) for s in train_all['Author']])\n",
        "x_train, x_test, y_train, y_test = train_test_split(train_all,target_all, test_size=0.2, random_state=42)\n",
        "tokenizer = Tokenizer()\n",
        "tokenizer2 = Tokenizer()\n",
        "tokenizer3 = Tokenizer()\n",
        "tokenizer.fit_on_texts(list(train_all['Article']))\n",
        "x_train_Article_tokens = tokenizer.texts_to_sequences(list(x_train['Article']))\n",
        "x_test_Article_tokens = tokenizer.texts_to_sequences(list(x_test['Article']))\n",
        "x_train_Article_pad = pad_sequences(x_train_Article_tokens,maxlen=max_length,padding='post')\n",
        "x_test_Article_pad = pad_sequences(x_test_Article_tokens,maxlen=max_length,padding='post')\n",
        "\n",
        "unique_words = len(tokenizer.word_index)\n",
        "\n",
        "tokenizer2.fit_on_texts(train_all['Title'])\n",
        "x_train_Title_tokens = tokenizer2.texts_to_sequences(x_train['Title'])\n",
        "x_test_Title_tokens = tokenizer2.texts_to_sequences(x_test['Title'])\n",
        "x_train_Title_pad = pad_sequences(x_train_Title_tokens,maxlen=max_length2,padding='post')\n",
        "x_test_Title_pad = pad_sequences(x_test_Title_tokens,maxlen=max_length2,padding='post')\n",
        "\n",
        "unique_words = len(tokenizer.word_index)+1\n",
        "\n",
        "tokenizer3.fit_on_texts(train_all['Author'])\n",
        "x_train_Author_tokens = tokenizer3.texts_to_sequences(x_train['Author'])\n",
        "x_test_Author_tokens = tokenizer3.texts_to_sequences(x_test['Author'])\n",
        "x_train_Author_pad = pad_sequences(x_train_Author_tokens,maxlen=max_length3,padding='post')\n",
        "x_test_Author_pad = pad_sequences(x_test_Author_tokens,maxlen=max_length3,padding='post')\n",
        "\n",
        "unique_words = len(tokenizer.word_index)+1\n",
        "\n",
        "print(x_train_Article_pad.shape)\n",
        "print(x_train_Title_pad.shape)\n",
        "print(x_train_Author_pad.shape)\n",
        "print(x_test_Article_pad.shape)\n",
        "print(x_test_Title_pad.shape)\n",
        "print(x_test_Author_pad.shape)\n",
        "print('Found %d unique words.' % len(tokenizer.word_index))\n",
        "print('Found %d unique words.' % len(tokenizer2.word_index))\n",
        "print('Found %d unique words.' % len(tokenizer3.word_index))"
      ],
      "execution_count": 6,
      "outputs": [
        {
          "output_type": "stream",
          "text": [
            "TensorFlow 2.x selected.\n",
            "(3328, 3229)\n",
            "(3328, 31)\n",
            "(3328, 4)\n",
            "(832, 3229)\n",
            "(832, 31)\n",
            "(832, 4)\n",
            "Found 42697 unique words.\n",
            "Found 7582 unique words.\n",
            "Found 479 unique words.\n"
          ],
          "name": "stdout"
        }
      ]
    },
    {
      "cell_type": "code",
      "metadata": {
        "id": "AzujHgnLLq2Z",
        "colab_type": "code",
        "outputId": "51755950-4c9f-4ed0-a543-44f948b4a709",
        "colab": {
          "base_uri": "https://localhost:8080/",
          "height": 36
        }
      },
      "source": [
        "import os\n",
        "import numpy as np\n",
        "embeddings_index = {}\n",
        "#GLOVE_DIR = 'glove.6B/'\n",
        "f = open('/content/drive/My Drive/Fake-News-Detection/glove.6B.50d.txt',encoding=\"utf8\")\n",
        "for line in f:\n",
        "    values = line.split()\n",
        "    word = values[0]\n",
        "    coefs = np.asarray(values[1:], dtype='float32')\n",
        "    embeddings_index[word] = coefs\n",
        "f.close()\n",
        "\n",
        "print('Found %s word vectors.' % len(embeddings_index))"
      ],
      "execution_count": 7,
      "outputs": [
        {
          "output_type": "stream",
          "text": [
            "Found 400000 word vectors.\n"
          ],
          "name": "stdout"
        }
      ]
    },
    {
      "cell_type": "code",
      "metadata": {
        "id": "85nruGpvLq2d",
        "colab_type": "code",
        "colab": {}
      },
      "source": [
        "word_index = tokenizer.word_index\n",
        "word_index2 = tokenizer2.word_index\n",
        "word_index3 = tokenizer3.word_index\n",
        "embedding_matrix = np.zeros((len(word_index) + 1, 50))\n",
        "for word, i in word_index.items():\n",
        "    embedding_vector = embeddings_index.get(word)\n",
        "    if embedding_vector is not None:\n",
        "        # words not found in embedding index will be all-zeros.\n",
        "        embedding_matrix[i] = embedding_vector\n",
        "embedding_matrix2 = np.zeros((len(word_index2) + 1, 50))\n",
        "for word, i in word_index2.items():\n",
        "    embedding_vector2 = embeddings_index.get(word)\n",
        "    if embedding_vector2 is not None:\n",
        "        # words not found in embedding index will be all-zeros.\n",
        "        embedding_matrix2[i] = embedding_vector2\n",
        "embedding_matrix3 = np.zeros((len(word_index3) + 1, 50))\n",
        "for word, i in word_index3.items():\n",
        "    embedding_vector3 = embeddings_index.get(word)\n",
        "    if embedding_vector3 is not None:\n",
        "        # words not found in embedding index will be all-zeros.\n",
        "        embedding_matrix3[i] = embedding_vector3"
      ],
      "execution_count": 0,
      "outputs": []
    },
    {
      "cell_type": "code",
      "metadata": {
        "id": "ZSM_mtXwBF5L",
        "colab_type": "code",
        "outputId": "0a8cb326-7d79-4799-b05d-c2883bf83066",
        "colab": {
          "base_uri": "https://localhost:8080/",
          "height": 1000
        }
      },
      "source": [
        "%tensorflow_version 2.x\n",
        "import tensorflow as tf\n",
        "from tensorflow import keras\n",
        "from tensorflow.keras.layers import SimpleRNN, Dense,Conv1D, GlobalMaxPooling1D, Dropout, Embedding, BatchNormalization, Conv2D,Reshape,Activation,Concatenate, Input,LSTM,Bidirectional, GRU,MaxPool2D,Flatten, Dropout, Dense, Conv1D\n",
        "from keras.layers import MaxPool1D\n",
        "from keras.models import Model\n",
        "from keras.callbacks import ModelCheckpoint\n",
        "from keras.optimizers import Adam\n",
        "keras.backend.clear_session()\n",
        "np.random.seed(42)\n",
        "tf.random.set_seed(42)\n",
        "# the dimension of vectors to be used\n",
        "\n",
        "# set parameters:\n",
        "max_features = 5000\n",
        "maxlen = 400\n",
        "batch_size = 64\n",
        "embedding_dims = 50\n",
        "filters = 250\n",
        "kernel_size = 3\n",
        "hidden_dims = 250\n",
        "epochs = 20\n",
        "# # # # # # \n",
        "inputAr = Input(shape=max_length)\n",
        "input_Article=Embedding(len(word_index) + 1,50,input_length=[embedding_matrix],name='Article')(inputAr)\n",
        "hidden2=Conv1D(filters,kernel_size,padding='valid',strides=1)(input_Article)\n",
        "\n",
        "\n",
        "# # # # # # # # # # # # # \n",
        "inputT = Input(shape=max_length2)\n",
        "input_Title=Embedding(len(word_index2) + 1,50,input_length=[embedding_matrix2],name='Title')(inputT )\n",
        "hidden2_2=Conv1D(filters,kernel_size,padding='valid',strides=1)(input_Title)\n",
        "\n",
        "# # # # # # # # # # # # # \n",
        "inputAu = Input(shape=max_length3)\n",
        "input_Author=Embedding(len(word_index3) + 1,50,input_length=[embedding_matrix3],name='Author')(inputAu  )\n",
        "hidden2_3=Conv1D(filters,kernel_size,padding='valid',strides=1)(input_Author)\n",
        "# # # # # # # # # # # # # \n",
        "maxpool_0 = GlobalMaxPooling1D()(hidden2)\n",
        "maxpool_1 = GlobalMaxPooling1D()(hidden2_2)\n",
        "maxpool_2 = GlobalMaxPooling1D()(hidden2_3)\n",
        "\n",
        "\n",
        "concatenated_tensor = Concatenate(axis=1)([maxpool_0, maxpool_1, maxpool_2])\n",
        "# # # # # # # # # # # # # \n",
        "dropout = Dropout(0.4)(concatenated_tensor)\n",
        "dense = Dense(200,kernel_initializer='he_normal')(dropout)\n",
        "batch_norm2 = BatchNormalization()(dense)\n",
        "activation = Activation('relu')(batch_norm2)\n",
        "dense2 = Dense(50,kernel_initializer='he_normal')(activation)\n",
        "batch_norm3 = BatchNormalization()(dense2)\n",
        "activation2 = Activation('relu')(batch_norm3)\n",
        "dropout2 = Dropout(0.4)(activation2)\n",
        "output = Dense(2, activation='sigmoid')(dropout2)\n",
        "# # # # # # # # # # # # # \n",
        "\n",
        "# this creates a model that includes\n",
        "model = keras.Model(inputs=[inputAr,inputT,inputAu], outputs=[output])\n",
        "model.summary()"
      ],
      "execution_count": 20,
      "outputs": [
        {
          "output_type": "stream",
          "text": [
            "Model: \"model\"\n",
            "__________________________________________________________________________________________________\n",
            "Layer (type)                    Output Shape         Param #     Connected to                     \n",
            "==================================================================================================\n",
            "input_1 (InputLayer)            [(None, 3229)]       0                                            \n",
            "__________________________________________________________________________________________________\n",
            "input_2 (InputLayer)            [(None, 31)]         0                                            \n",
            "__________________________________________________________________________________________________\n",
            "input_3 (InputLayer)            [(None, 4)]          0                                            \n",
            "__________________________________________________________________________________________________\n",
            "Article (Embedding)             (None, 3229, 50)     2134900     input_1[0][0]                    \n",
            "__________________________________________________________________________________________________\n",
            "Title (Embedding)               (None, 31, 50)       379150      input_2[0][0]                    \n",
            "__________________________________________________________________________________________________\n",
            "Author (Embedding)              (None, 4, 50)        24000       input_3[0][0]                    \n",
            "__________________________________________________________________________________________________\n",
            "conv1d (Conv1D)                 (None, 3227, 250)    37750       Article[0][0]                    \n",
            "__________________________________________________________________________________________________\n",
            "conv1d_1 (Conv1D)               (None, 29, 250)      37750       Title[0][0]                      \n",
            "__________________________________________________________________________________________________\n",
            "conv1d_2 (Conv1D)               (None, 2, 250)       37750       Author[0][0]                     \n",
            "__________________________________________________________________________________________________\n",
            "global_max_pooling1d (GlobalMax (None, 250)          0           conv1d[0][0]                     \n",
            "__________________________________________________________________________________________________\n",
            "global_max_pooling1d_1 (GlobalM (None, 250)          0           conv1d_1[0][0]                   \n",
            "__________________________________________________________________________________________________\n",
            "global_max_pooling1d_2 (GlobalM (None, 250)          0           conv1d_2[0][0]                   \n",
            "__________________________________________________________________________________________________\n",
            "concatenate (Concatenate)       (None, 750)          0           global_max_pooling1d[0][0]       \n",
            "                                                                 global_max_pooling1d_1[0][0]     \n",
            "                                                                 global_max_pooling1d_2[0][0]     \n",
            "__________________________________________________________________________________________________\n",
            "dropout (Dropout)               (None, 750)          0           concatenate[0][0]                \n",
            "__________________________________________________________________________________________________\n",
            "dense (Dense)                   (None, 200)          150200      dropout[0][0]                    \n",
            "__________________________________________________________________________________________________\n",
            "batch_normalization (BatchNorma (None, 200)          800         dense[0][0]                      \n",
            "__________________________________________________________________________________________________\n",
            "activation (Activation)         (None, 200)          0           batch_normalization[0][0]        \n",
            "__________________________________________________________________________________________________\n",
            "dense_1 (Dense)                 (None, 50)           10050       activation[0][0]                 \n",
            "__________________________________________________________________________________________________\n",
            "batch_normalization_1 (BatchNor (None, 50)           200         dense_1[0][0]                    \n",
            "__________________________________________________________________________________________________\n",
            "activation_1 (Activation)       (None, 50)           0           batch_normalization_1[0][0]      \n",
            "__________________________________________________________________________________________________\n",
            "dropout_1 (Dropout)             (None, 50)           0           activation_1[0][0]               \n",
            "__________________________________________________________________________________________________\n",
            "dense_2 (Dense)                 (None, 2)            102         dropout_1[0][0]                  \n",
            "==================================================================================================\n",
            "Total params: 2,812,652\n",
            "Trainable params: 2,812,152\n",
            "Non-trainable params: 500\n",
            "__________________________________________________________________________________________________\n"
          ],
          "name": "stdout"
        }
      ]
    },
    {
      "cell_type": "code",
      "metadata": {
        "id": "sHx1qzG3Lq2l",
        "colab_type": "code",
        "outputId": "3780c69b-94e3-4fa4-c630-3cd2fefaf069",
        "colab": {
          "base_uri": "https://localhost:8080/",
          "height": 820
        }
      },
      "source": [
        "import numpy as np\n",
        "import time\n",
        "\n",
        "y_train = np.array(y_train)\n",
        "y_test = np.array(y_test)\n",
        "\n",
        "start_time_bi_CNN = time.time()\n",
        "model.compile(loss='sparse_categorical_crossentropy',optimizer='adam',metrics=['accuracy'])\n",
        "history = model.fit((x_train_Article_pad, x_train_Title_pad, x_train_Author_pad), y_train, epochs=20,validation_split=0.2,batch_size=64)\n",
        "end_time_bi_CNN = time.time()"
      ],
      "execution_count": 24,
      "outputs": [
        {
          "output_type": "stream",
          "text": [
            "Train on 2662 samples, validate on 666 samples\n",
            "Epoch 1/20\n",
            "2662/2662 [==============================] - 8s 3ms/sample - loss: 0.0045 - accuracy: 0.9985 - val_loss: 0.0238 - val_accuracy: 0.9970\n",
            "Epoch 2/20\n",
            "2662/2662 [==============================] - 6s 2ms/sample - loss: 6.7146e-04 - accuracy: 0.9996 - val_loss: 0.0231 - val_accuracy: 0.9970\n",
            "Epoch 3/20\n",
            "2662/2662 [==============================] - 6s 2ms/sample - loss: 0.0040 - accuracy: 0.9985 - val_loss: 0.0289 - val_accuracy: 0.9970\n",
            "Epoch 4/20\n",
            "2662/2662 [==============================] - 6s 2ms/sample - loss: 9.3829e-04 - accuracy: 0.9996 - val_loss: 0.0268 - val_accuracy: 0.9970\n",
            "Epoch 5/20\n",
            "2662/2662 [==============================] - 6s 2ms/sample - loss: 0.0013 - accuracy: 0.9996 - val_loss: 0.0288 - val_accuracy: 0.9970\n",
            "Epoch 6/20\n",
            "2662/2662 [==============================] - 6s 2ms/sample - loss: 4.4665e-04 - accuracy: 1.0000 - val_loss: 0.0290 - val_accuracy: 0.9970\n",
            "Epoch 7/20\n",
            "2662/2662 [==============================] - 6s 2ms/sample - loss: 1.5950e-04 - accuracy: 1.0000 - val_loss: 0.0292 - val_accuracy: 0.9970\n",
            "Epoch 8/20\n",
            "2662/2662 [==============================] - 6s 2ms/sample - loss: 1.9439e-04 - accuracy: 1.0000 - val_loss: 0.0294 - val_accuracy: 0.9970\n",
            "Epoch 9/20\n",
            "2662/2662 [==============================] - 6s 2ms/sample - loss: 8.7653e-04 - accuracy: 0.9996 - val_loss: 0.0272 - val_accuracy: 0.9970\n",
            "Epoch 10/20\n",
            "2662/2662 [==============================] - 6s 2ms/sample - loss: 0.0045 - accuracy: 0.9992 - val_loss: 0.0156 - val_accuracy: 0.9955\n",
            "Epoch 11/20\n",
            "2662/2662 [==============================] - 6s 2ms/sample - loss: 0.0058 - accuracy: 0.9974 - val_loss: 0.0290 - val_accuracy: 0.9970\n",
            "Epoch 12/20\n",
            "2662/2662 [==============================] - 6s 2ms/sample - loss: 3.8950e-04 - accuracy: 1.0000 - val_loss: 0.0313 - val_accuracy: 0.9955\n",
            "Epoch 13/20\n",
            "2662/2662 [==============================] - 6s 2ms/sample - loss: 0.0018 - accuracy: 0.9996 - val_loss: 0.0337 - val_accuracy: 0.9955\n",
            "Epoch 14/20\n",
            "2662/2662 [==============================] - 6s 2ms/sample - loss: 5.8455e-04 - accuracy: 1.0000 - val_loss: 0.0326 - val_accuracy: 0.9955\n",
            "Epoch 15/20\n",
            "2662/2662 [==============================] - 6s 2ms/sample - loss: 5.9688e-04 - accuracy: 1.0000 - val_loss: 0.0309 - val_accuracy: 0.9955\n",
            "Epoch 16/20\n",
            "2662/2662 [==============================] - 6s 2ms/sample - loss: 0.0040 - accuracy: 0.9985 - val_loss: 0.0262 - val_accuracy: 0.9970\n",
            "Epoch 17/20\n",
            "2662/2662 [==============================] - 6s 2ms/sample - loss: 7.3784e-04 - accuracy: 1.0000 - val_loss: 0.0259 - val_accuracy: 0.9970\n",
            "Epoch 18/20\n",
            "2662/2662 [==============================] - 6s 2ms/sample - loss: 4.2081e-04 - accuracy: 1.0000 - val_loss: 0.0255 - val_accuracy: 0.9970\n",
            "Epoch 19/20\n",
            "2662/2662 [==============================] - 6s 2ms/sample - loss: 0.0031 - accuracy: 0.9992 - val_loss: 0.0262 - val_accuracy: 0.9970\n",
            "Epoch 20/20\n",
            "2662/2662 [==============================] - 6s 2ms/sample - loss: 0.0023 - accuracy: 0.9996 - val_loss: 0.0239 - val_accuracy: 0.9970\n"
          ],
          "name": "stdout"
        }
      ]
    },
    {
      "cell_type": "code",
      "metadata": {
        "id": "m_aDbuBZuGXx",
        "colab_type": "code",
        "colab": {
          "base_uri": "https://localhost:8080/",
          "height": 36
        },
        "outputId": "f79fe5c4-1d6e-44fa-843a-f50bae3cf5dc"
      },
      "source": [
        "end_time_bi_CNN = round(end_time_bi_CNN / (60 * 60 ), 2)\n",
        "start_time_bi_CNN = round(start_time_bi_CNN / (60 * 60 ), 2) \n",
        "print(\"Time elapsed for training Bidirectional CNN model \", end_time_bi_CNN - start_time_bi_CNN, \"hours\" )"
      ],
      "execution_count": 26,
      "outputs": [
        {
          "output_type": "stream",
          "text": [
            "Time elapsed for training Bidirectional CNN model  0.0 hours\n"
          ],
          "name": "stdout"
        }
      ]
    },
    {
      "cell_type": "code",
      "metadata": {
        "id": "G-jw-mriLq2o",
        "colab_type": "code",
        "colab": {
          "base_uri": "https://localhost:8080/",
          "height": 352
        },
        "outputId": "a449837e-0a4a-4baa-a42a-5ad5e4b4b02e"
      },
      "source": [
        "%matplotlib inline\n",
        "from matplotlib import pyplot\n",
        "test_acc_bi_lstm = model.evaluate((x_test_Article_pad, x_test_Title_pad, x_test_Author_pad), y_test, verbose=0)\n",
        "print(\"Traiing and validation loss\")\n",
        "print('Test loss: %.3f' % (test_acc_bi_lstm[0]))\n",
        "# plot training history\n",
        "print(\"Traiing and validation loss\")\n",
        "pyplot.plot(history.history['loss'], label='train LSTM')\n",
        "pyplot.plot(history.history['val_loss'], label='test LSTM')\n",
        "pyplot.title('model loss')\n",
        "pyplot.ylabel('loss')\n",
        "pyplot.xlabel('epoch')\n",
        "pyplot.legend(['train', 'test'], loc='upper left')\n",
        "pyplot.show()"
      ],
      "execution_count": 27,
      "outputs": [
        {
          "output_type": "stream",
          "text": [
            "Traiing and validation loss\n",
            "Test loss: 0.000\n",
            "Traiing and validation loss\n"
          ],
          "name": "stdout"
        },
        {
          "output_type": "display_data",
          "data": {
            "image/png": "[encoded data removed]",
            "text/plain": [
              "<Figure size 432x288 with 1 Axes>"
            ]
          },
          "metadata": {
            "tags": []
          }
        }
      ]
    },
    {
      "cell_type": "code",
      "metadata": {
        "id": "5u7RmsECuXj2",
        "colab_type": "code",
        "colab": {
          "base_uri": "https://localhost:8080/",
          "height": 333
        },
        "outputId": "7fd8b84c-1257-4bd0-9fbd-04c4cfe2f9af"
      },
      "source": [
        "\n",
        "%matplotlib inline\n",
        "print(\"Traiing and validation accuracy\")\n",
        "print('Test accuracy: %.3f' % ( test_acc_bi_lstm[1]))\n",
        "pyplot.plot(history.history['accuracy'], label='train LSTM')\n",
        "pyplot.plot(history.history['val_accuracy'], label='test LSTM')\n",
        "pyplot.title('model accuracy')\n",
        "pyplot.ylabel('accuracy')\n",
        "pyplot.xlabel('epoch')\n",
        "pyplot.legend(['train', 'test'], loc='upper left')\n",
        "pyplot.show()"
      ],
      "execution_count": 28,
      "outputs": [
        {
          "output_type": "stream",
          "text": [
            "Traiing and validation accuracy\n",
            "Test accuracy: 1.000\n"
          ],
          "name": "stdout"
        },
        {
          "output_type": "display_data",
          "data": {
            "image/png": "[encoded data removed]",
            "text/plain": [
              "<Figure size 432x288 with 1 Axes>"
            ]
          },
          "metadata": {
            "tags": []
          }
        }
      ]
    }
  ]
}